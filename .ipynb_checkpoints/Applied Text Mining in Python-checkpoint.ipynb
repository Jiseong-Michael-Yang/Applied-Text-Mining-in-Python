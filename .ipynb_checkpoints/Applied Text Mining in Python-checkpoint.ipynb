{
 "cells": [
  {
   "cell_type": "markdown",
   "metadata": {},
   "source": [
    "# Applied Text Mining in Python\n",
    "**<div style=\"text-align: right\">Jiseong Yang</div>**  \n",
    "**<font color='red'>Note</font>**: This is my personal lecture note based on [Applied Text Mining in Python](https://www.coursera.org/learn/python-text-mining) on [Coursera](https://www.coursera.org/) provided by University of Michigan"
   ]
  },
  {
   "cell_type": "markdown",
   "metadata": {},
   "source": [
    "## Module 1: Working with Text in Python"
   ]
  },
  {
   "cell_type": "markdown",
   "metadata": {},
   "source": [
    "### Handling Text in Python"
   ]
  },
  {
   "cell_type": "markdown",
   "metadata": {},
   "source": [
    "#### Characters and Words"
   ]
  },
  {
   "cell_type": "code",
   "execution_count": 2,
   "metadata": {},
   "outputs": [
    {
     "name": "stdout",
     "output_type": "stream",
     "text": [
      "Ethics are built right into the ideals and objectives of the United Nations.\n"
     ]
    },
    {
     "data": {
      "text/plain": [
       "76"
      ]
     },
     "execution_count": 2,
     "metadata": {},
     "output_type": "execute_result"
    }
   ],
   "source": [
    "# Characters\n",
    "text1= \"Ethics are built right into the ideals and objectives of the United Nations.\"; print(text1)\n",
    "len(text1)"
   ]
  },
  {
   "cell_type": "code",
   "execution_count": 3,
   "metadata": {},
   "outputs": [
    {
     "name": "stdout",
     "output_type": "stream",
     "text": [
      "['Ethics', 'are', 'built', 'right', 'into', 'the', 'ideals', 'and', 'objectives', 'of', 'the', 'United', 'Nations.']\n"
     ]
    },
    {
     "data": {
      "text/plain": [
       "13"
      ]
     },
     "execution_count": 3,
     "metadata": {},
     "output_type": "execute_result"
    }
   ],
   "source": [
    "# Words\n",
    "text2 = text1.split(\" \"); print(text2)\n",
    "len(text2)"
   ]
  },
  {
   "cell_type": "markdown",
   "metadata": {},
   "source": [
    "#### Finding Specific Words"
   ]
  },
  {
   "cell_type": "code",
   "execution_count": 4,
   "metadata": {},
   "outputs": [
    {
     "data": {
      "text/plain": [
       "['Ethics',\n",
       " 'built',\n",
       " 'right',\n",
       " 'into',\n",
       " 'ideals',\n",
       " 'objectives',\n",
       " 'United',\n",
       " 'Nations.']"
      ]
     },
     "execution_count": 4,
     "metadata": {},
     "output_type": "execute_result"
    }
   ],
   "source": [
    "# Long words: Words taht are more than 3 letters long\n",
    "[w for w in text2 if len(w) > 3]"
   ]
  },
  {
   "cell_type": "code",
   "execution_count": 5,
   "metadata": {},
   "outputs": [
    {
     "data": {
      "text/plain": [
       "['Ethics', 'United', 'Nations.']"
      ]
     },
     "execution_count": 5,
     "metadata": {},
     "output_type": "execute_result"
    }
   ],
   "source": [
    "# Capitalized words\n",
    "[w for w in text2 if w.istitle()]"
   ]
  },
  {
   "cell_type": "code",
   "execution_count": 6,
   "metadata": {},
   "outputs": [
    {
     "data": {
      "text/plain": [
       "['Ethics', 'ideals', 'objectives']"
      ]
     },
     "execution_count": 6,
     "metadata": {},
     "output_type": "execute_result"
    }
   ],
   "source": [
    "# Words that end with s\n",
    "[w for w in text2 if w.endswith('s')]"
   ]
  },
  {
   "cell_type": "code",
   "execution_count": 7,
   "metadata": {},
   "outputs": [
    {
     "name": "stdout",
     "output_type": "stream",
     "text": [
      "['To', 'be', 'or', 'not', 'to', 'be']\n",
      "6\n",
      "5\n",
      "['to', 'be', 'or', 'not', 'to', 'be']\n",
      "5\n"
     ]
    }
   ],
   "source": [
    "# Finding unique words\n",
    "text3 = \"To be or not to be\"\n",
    "text4 = text3.split(\" \"); print(text4)\n",
    "print(len(text4))\n",
    "print(len(set(text4)))\n",
    "print([w.lower() for w in text4])\n",
    "print(len(set(text4)))"
   ]
  },
  {
   "cell_type": "markdown",
   "metadata": {},
   "source": [
    "#### Word Comparison Functions\n",
    "* s.startswith(t)\n",
    "* s.endswith(t)\n",
    "* t in s\n",
    "* s.isupper(); s.islower(); s.istitle()   \n",
    "e.g UPPER, lower, Title\n",
    "* s.isalpha(); s.isdigit(); s.isalnum()  \n",
    "e.g abcd, 1234, ab12"
   ]
  },
  {
   "cell_type": "markdown",
   "metadata": {},
   "source": [
    "#### String Operations\n",
    "* s.lower(); s.upper(); s.titlecase()\n",
    "* s.split(t)\n",
    "* s.splitlines() - split sentence by '\\n'\n",
    "* s.join(t)\n",
    "* s.strip(); s.rstrip()\n",
    "* s.find(t); s.rfind(t)\n",
    "* s.replace(u, v)"
   ]
  },
  {
   "cell_type": "code",
   "execution_count": 8,
   "metadata": {},
   "outputs": [
    {
     "name": "stdout",
     "output_type": "stream",
     "text": [
      "['', 'agad', 'g', '']\n"
     ]
    }
   ],
   "source": [
    "# Split\n",
    "text5 = \"ouagadougou\"\n",
    "text6 = text5.split(\"ou\"); print(text6)"
   ]
  },
  {
   "cell_type": "code",
   "execution_count": 9,
   "metadata": {},
   "outputs": [
    {
     "data": {
      "text/plain": [
       "'ouagadougou'"
      ]
     },
     "execution_count": 9,
     "metadata": {},
     "output_type": "execute_result"
    }
   ],
   "source": [
    "# Join\n",
    "'ou'.join(text6)"
   ]
  },
  {
   "cell_type": "code",
   "execution_count": 10,
   "metadata": {},
   "outputs": [
    {
     "ename": "ValueError",
     "evalue": "empty separator",
     "output_type": "error",
     "traceback": [
      "\u001b[1;31m---------------------------------------------------------------------------\u001b[0m",
      "\u001b[1;31mValueError\u001b[0m                                Traceback (most recent call last)",
      "\u001b[1;32m<ipython-input-10-03d52f60b264>\u001b[0m in \u001b[0;36m<module>\u001b[1;34m\u001b[0m\n\u001b[0;32m      1\u001b[0m \u001b[1;31m# Get all characters\u001b[0m\u001b[1;33m\u001b[0m\u001b[1;33m\u001b[0m\u001b[1;33m\u001b[0m\u001b[0m\n\u001b[1;32m----> 2\u001b[1;33m \u001b[0mtext5\u001b[0m\u001b[1;33m.\u001b[0m\u001b[0msplit\u001b[0m\u001b[1;33m(\u001b[0m\u001b[1;34m\"\"\u001b[0m\u001b[1;33m)\u001b[0m\u001b[1;33m\u001b[0m\u001b[1;33m\u001b[0m\u001b[0m\n\u001b[0m",
      "\u001b[1;31mValueError\u001b[0m: empty separator"
     ]
    }
   ],
   "source": [
    "# Get all characters\n",
    "text5.split(\"\")"
   ]
  },
  {
   "cell_type": "code",
   "execution_count": null,
   "metadata": {},
   "outputs": [],
   "source": [
    "# Get all the characters\n",
    "print(list(text5))\n",
    "print([c for c in text5])"
   ]
  },
  {
   "cell_type": "markdown",
   "metadata": {},
   "source": [
    "#### Cleaning Text"
   ]
  },
  {
   "cell_type": "code",
   "execution_count": null,
   "metadata": {},
   "outputs": [],
   "source": [
    "# Whitespaces\n",
    "text8 = \"        A quick brown fox jumped over the lazy dog.    \"\n",
    "text8.split(\" \")"
   ]
  },
  {
   "cell_type": "code",
   "execution_count": null,
   "metadata": {},
   "outputs": [],
   "source": [
    "# Strip\n",
    "text9 = text8.strip()\n",
    "text9.split(\" \")"
   ]
  },
  {
   "cell_type": "markdown",
   "metadata": {},
   "source": [
    "#### Changing Text"
   ]
  },
  {
   "cell_type": "code",
   "execution_count": null,
   "metadata": {},
   "outputs": [],
   "source": [
    "# Find returns the number of the target string\n",
    "text9\n",
    "text9.find('o')"
   ]
  },
  {
   "cell_type": "code",
   "execution_count": null,
   "metadata": {},
   "outputs": [],
   "source": [
    "# Replace\n",
    "text9.replace(\"o\", \"O\")"
   ]
  },
  {
   "cell_type": "markdown",
   "metadata": {},
   "source": [
    "#### Handling Larger Texts"
   ]
  },
  {
   "cell_type": "code",
   "execution_count": null,
   "metadata": {},
   "outputs": [],
   "source": [
    "# Working directory\n",
    "import os\n",
    "wd = r\"C:\\Users\\Jiseong Yang\\Documents\\Jiseong Yang\\Scholar\\SKKU\\Semesters\\Thesis\\Lectures\\Applied Text Mining in Python\"\n",
    "os.chdir(wd)\n",
    "os.getcwd()"
   ]
  },
  {
   "cell_type": "code",
   "execution_count": null,
   "metadata": {},
   "outputs": [],
   "source": [
    "# Reading files line by line\n",
    "f = open('UNDHR.txt', 'r')\n",
    "f.readline()"
   ]
  },
  {
   "cell_type": "code",
   "execution_count": null,
   "metadata": {},
   "outputs": [],
   "source": [
    "# Reading the full file\n",
    "f.seek(0) # Move to 0th byte.\n",
    "text12 = f.read()\n",
    "print(len(text12))"
   ]
  },
  {
   "cell_type": "code",
   "execution_count": null,
   "metadata": {},
   "outputs": [],
   "source": [
    "# Splitlines\n",
    "text13 = text12.splitlines()\n",
    "len(text13)\n",
    "print(text13)\n",
    "text13[0]"
   ]
  },
  {
   "cell_type": "markdown",
   "metadata": {},
   "source": [
    "#### File Operations\n",
    "* f = open(filename, mode)\n",
    "* f.readline() - read one line\n",
    "* f.read() - read the whole file\n",
    "* f.read(n) - read n character(s)\n",
    "* for line in f\n",
    "* f.seek(n)\n",
    "* f.write(message)\n",
    "* f.close()\n",
    "* f.closed - check if closed"
   ]
  },
  {
   "cell_type": "code",
   "execution_count": null,
   "metadata": {},
   "outputs": [],
   "source": [
    "# Issues with Reading Text Files\n",
    "f = open(\"UNDHR.txt\", 'r')\n",
    "text14 = f.readline()\n",
    "text14"
   ]
  },
  {
   "cell_type": "code",
   "execution_count": null,
   "metadata": {},
   "outputs": [],
   "source": [
    "# Removing Newline Character\n",
    "text14.rstrip\n",
    "\n",
    "# Works also for DOS newlines (^M) that shows up as '\\r' or '\\r\\n'"
   ]
  },
  {
   "cell_type": "markdown",
   "metadata": {},
   "source": [
    "### Regular Expressions"
   ]
  },
  {
   "cell_type": "markdown",
   "metadata": {},
   "source": [
    "#### Working With Text"
   ]
  },
  {
   "cell_type": "code",
   "execution_count": null,
   "metadata": {},
   "outputs": [],
   "source": [
    "# Text separation\n",
    "text1 = \"Ethics are built right into the ideals and objectives of the United Nations \"\n",
    "len(text1) # The length of text1\n",
    "text2 = text1.split(' ') # Return a list of the words in text2, separating by ' '.\n",
    "len(text2)\n",
    "print(text2)"
   ]
  },
  {
   "cell_type": "code",
   "execution_count": null,
   "metadata": {},
   "outputs": [],
   "source": [
    "# Find words that are greater than 3 letters\n",
    "[w for w in text2 if len(w) > 3]"
   ]
  },
  {
   "cell_type": "code",
   "execution_count": 11,
   "metadata": {},
   "outputs": [
    {
     "data": {
      "text/plain": [
       "['Ethics', 'United', 'Nations.']"
      ]
     },
     "execution_count": 11,
     "metadata": {},
     "output_type": "execute_result"
    }
   ],
   "source": [
    "# Find words that are capitalized\n",
    "[w for w in text2 if w.istitle()]"
   ]
  },
  {
   "cell_type": "code",
   "execution_count": 12,
   "metadata": {},
   "outputs": [
    {
     "data": {
      "text/plain": [
       "['Ethics', 'ideals', 'objectives']"
      ]
     },
     "execution_count": 12,
     "metadata": {},
     "output_type": "execute_result"
    }
   ],
   "source": [
    "# Find words that end with 's'\n",
    "[w for w in text2 if w.endswith('s')]"
   ]
  },
  {
   "cell_type": "code",
   "execution_count": 13,
   "metadata": {},
   "outputs": [
    {
     "name": "stdout",
     "output_type": "stream",
     "text": [
      "['To', 'be', 'or', 'not', 'to', 'be']\n"
     ]
    }
   ],
   "source": [
    "# Find qnique words\n",
    "text3 = \"To be or not to be\"\n",
    "text4 = text3.split(\" \")\n",
    "print(text4)"
   ]
  },
  {
   "cell_type": "code",
   "execution_count": 14,
   "metadata": {},
   "outputs": [
    {
     "data": {
      "text/plain": [
       "{'be', 'not', 'or', 'to'}"
      ]
     },
     "execution_count": 14,
     "metadata": {},
     "output_type": "execute_result"
    }
   ],
   "source": [
    "# Lower down the case\n",
    "set([w.lower() for w in text4])"
   ]
  },
  {
   "cell_type": "markdown",
   "metadata": {},
   "source": [
    "##### Processing Free-text"
   ]
  },
  {
   "cell_type": "code",
   "execution_count": 15,
   "metadata": {},
   "outputs": [
    {
     "name": "stdout",
     "output_type": "stream",
     "text": [
      "['\"Ethics', 'are', 'built', 'right', 'into', 'the', 'ideals', 'and', 'objectives', 'of', 'the', 'United', 'Nations\"', '#UNSG', '@', 'NY', 'Society', 'for', 'Ethical', 'Culture', 'bit.ly/2guVelr']\n"
     ]
    }
   ],
   "source": [
    "# Text Speration\n",
    "text5 = '\"Ethics are built right into the ideals and objectives of the United Nations\" \\\n",
    "#UNSG @ NY Society for Ethical Culture bit.ly/2guVelr'\n",
    "text6 = text5.split(' ')\n",
    "print(text6)"
   ]
  },
  {
   "cell_type": "code",
   "execution_count": 16,
   "metadata": {},
   "outputs": [
    {
     "data": {
      "text/plain": [
       "['#UNSG']"
      ]
     },
     "execution_count": 16,
     "metadata": {},
     "output_type": "execute_result"
    }
   ],
   "source": [
    "# Finding hashtags\n",
    "[w for w in text6 if w.startswith(\"#\")]"
   ]
  },
  {
   "cell_type": "code",
   "execution_count": 17,
   "metadata": {},
   "outputs": [
    {
     "data": {
      "text/plain": [
       "['@']"
      ]
     },
     "execution_count": 17,
     "metadata": {},
     "output_type": "execute_result"
    }
   ],
   "source": [
    "# Finding callouts\n",
    "[w for w in text6 if w.startswith(\"@\")]"
   ]
  },
  {
   "cell_type": "markdown",
   "metadata": {},
   "source": [
    "##### Necessitiy of Regular Expression"
   ]
  },
  {
   "cell_type": "code",
   "execution_count": 18,
   "metadata": {
    "scrolled": true
   },
   "outputs": [
    {
     "name": "stdout",
     "output_type": "stream",
     "text": [
      "['@UN', '@UN_Women', '\"Ethics', 'are', 'built', 'right', 'into', 'the', 'ideals', 'and', 'objectives', 'of', 'the', 'United', 'Nations\"', '#UNSG', '@', 'NY', 'Society', 'for', 'Ethical', 'Culture', 'bit.ly/2guVelr']\n"
     ]
    }
   ],
   "source": [
    "# Text separation\n",
    "text7 = '@UN @UN_Women \"Ethics are built right into the ideals and objectives of the United Nations\" \\\n",
    "#UNSG @ NY Society for Ethical Culture bit.ly/2guVelr'\n",
    "text8 = text7.split(' ')\n",
    "print(text8)"
   ]
  },
  {
   "cell_type": "code",
   "execution_count": 19,
   "metadata": {
    "scrolled": true
   },
   "outputs": [
    {
     "data": {
      "text/plain": [
       "['@UN', '@UN_Women', '@']"
      ]
     },
     "execution_count": 19,
     "metadata": {},
     "output_type": "execute_result"
    }
   ],
   "source": [
    "# Finding callouts\n",
    "[w for w in text8 if w.startswith('@')]"
   ]
  },
  {
   "cell_type": "code",
   "execution_count": 20,
   "metadata": {
    "scrolled": true
   },
   "outputs": [
    {
     "data": {
      "text/plain": [
       "['@UN', '@UN_Women']"
      ]
     },
     "execution_count": 20,
     "metadata": {},
     "output_type": "execute_result"
    }
   ],
   "source": [
    "# Finding callout with regular expressions\n",
    "import re\n",
    "[w for w in text8 if re.search('@[A-Za-z0-9_]+', w)]"
   ]
  },
  {
   "cell_type": "markdown",
   "metadata": {},
   "source": [
    "* `[A-Za-z0-9_]+` will return all words that: \n",
    "    * start with `'@'` and are followed by at least one: \n",
    "    * capital letter (`'A-Z'`)\n",
    "    * lowercase letter (`'a-z'`) \n",
    "    * number (`'0-9'`)\n",
    "    * or underscore (`'_'`)"
   ]
  },
  {
   "cell_type": "markdown",
   "metadata": {},
   "source": [
    "##### Meta-characters\n",
    "\n",
    "* Character Symbols\n",
    "    * `.`: wildcard, matches a single character\n",
    "    * `^`: start of a string\n",
    "    * `$`: end of a string\n",
    "    * `[]`: matches one of the set of characters within []\n",
    "    * `[a-z]`: matches one of the range of character**s** a, b, ..., z\n",
    "    * `[^abc]`: matches **a** character that is not a, b, or, c\n",
    "    * `a|b`: mathes either a or b, where a and b are strings\n",
    "    * `()`: Scoping for operators\n",
    "    * `\\`: Escape character for special characters (\\t, \\n, \\b)\n",
    "    * `\\b`: matches word boundary\n",
    "    * `\\d`: any digit, equivalant to [0-9]\n",
    "    * `\\D`: any non-digit, equivalant to [^0-9]\n",
    "    * `\\s`: any whitespance, equivalant to [ \\t\\n\\r\\f\\v]\n",
    "    * `\\S`: any non-whitespance, equivalant to [^ \\t\\n\\r\\f\\v]\n",
    "    * `\\w`: alphaneumeric character, equivalanet to [a-zA-Z0-9_]\n",
    "    * `\\W`: non-alphaneumeric character, equivalanet to [^a-zA-Z0-9_]\n",
    "\n",
    "* Repetitions\n",
    "    * `*`: matches zero or more occurences\n",
    "    * `+`: matches one or more occurences\n",
    "    * `?`: matches zero or one occuerences\n",
    "    * `{n}`: exactly n repetitions, n≥0\n",
    "    * `{n,}`: at least n repetitions\n",
    "    * `{,n}`: at most n repetitions\n",
    "    * `{m,n}`: at least m and at most n repetitions"
   ]
  },
  {
   "cell_type": "code",
   "execution_count": 21,
   "metadata": {},
   "outputs": [
    {
     "data": {
      "text/plain": [
       "['o', 'u', 'a', 'a', 'o', 'u', 'o', 'u']"
      ]
     },
     "execution_count": 21,
     "metadata": {},
     "output_type": "execute_result"
    }
   ],
   "source": [
    "# Find only vowels\n",
    "text12 = \"ouagadougou\"\n",
    "re.findall(r'[aeiou]', text12)"
   ]
  },
  {
   "cell_type": "code",
   "execution_count": 22,
   "metadata": {},
   "outputs": [
    {
     "data": {
      "text/plain": [
       "['g', 'd', 'g']"
      ]
     },
     "execution_count": 22,
     "metadata": {},
     "output_type": "execute_result"
    }
   ],
   "source": [
    "# FInd only consnanats\n",
    "re.findall(r'[^aeiou]', text12)"
   ]
  },
  {
   "cell_type": "markdown",
   "metadata": {},
   "source": [
    "#### Case Study: Regular Expression for Dates\n",
    "* Date variations for 23rd October 2002  \n",
    "    * 23-13-1002\n",
    "    * 23/10/2002\n",
    "    * 23/10/02\n",
    "    * 10/23/2002\n",
    "    * 23 Oct 2002\n",
    "    * 23 October 2002\n",
    "    * Oct 23, 2002\n",
    "    * October 23, 2002\n"
   ]
  },
  {
   "cell_type": "code",
   "execution_count": 23,
   "metadata": {},
   "outputs": [
    {
     "name": "stdout",
     "output_type": "stream",
     "text": [
      "23-13-1002\n",
      "23/10/2002\n",
      "23/10/02\n",
      "10/23/2002\n",
      "23 Oct 2002\n",
      "23 October 2002\n",
      "Oct 23, 2002\n",
      "October 23, 2002\n",
      "\n"
     ]
    }
   ],
   "source": [
    "# Date Structures\n",
    "dateStr = '23-13-1002\\n23/10/2002\\n23/10/02\\n10/23/2002\\n23 Oct 2002\\n23 October 2002\\nOct 23, 2002\\nOctober 23, 2002\\n'\n",
    "print(dateStr)"
   ]
  },
  {
   "cell_type": "markdown",
   "metadata": {},
   "source": [
    "#### Group 1 (23-13-1002, 23/10/2002, 23/10/02, 10/23/2002)"
   ]
  },
  {
   "cell_type": "code",
   "execution_count": 24,
   "metadata": {
    "scrolled": true
   },
   "outputs": [
    {
     "data": {
      "text/plain": [
       "['23-13-1002', '23/10/2002', '23/10/02', '10/23/2002']"
      ]
     },
     "execution_count": 24,
     "metadata": {},
     "output_type": "execute_result"
    }
   ],
   "source": [
    "# XX/-XX/-XXXX\n",
    "re.findall(r'\\d{2}[/-]\\d{2}[/-]\\d{4}', dateStr)\n",
    "\n",
    "# XX/-XX/-XX(XX)\n",
    "re.findall(r'\\d{2}[/-]\\d{2}[/-]\\d{2,4}', dateStr)\n",
    "\n",
    "# X(X)/-X(X)/-XX(XX)\n",
    "re.findall(r'\\d{1,2}[/-]\\d{1,2}[/-]\\d{2,4}', dateStr)"
   ]
  },
  {
   "cell_type": "markdown",
   "metadata": {},
   "source": [
    "#### Group 2 (23 Oct 2002, 23 October 2002, Oct 23, 2002, October 23, 2002)"
   ]
  },
  {
   "cell_type": "code",
   "execution_count": 25,
   "metadata": {},
   "outputs": [
    {
     "data": {
      "text/plain": [
       "['Oct']"
      ]
     },
     "execution_count": 25,
     "metadata": {},
     "output_type": "execute_result"
    }
   ],
   "source": [
    "# (Mon)\n",
    "re.findall(r'\\d{2} (Jan|Feb|Mar|Apr|May|Jun|Jul|Aug|Sep|Oct|Nov|Dec) \\d{4}', dateStr)"
   ]
  },
  {
   "cell_type": "code",
   "execution_count": 26,
   "metadata": {},
   "outputs": [
    {
     "data": {
      "text/plain": [
       "['23 Oct 2002']"
      ]
     },
     "execution_count": 26,
     "metadata": {},
     "output_type": "execute_result"
    }
   ],
   "source": [
    "# XX (Mon) XXXX\n",
    "re.findall(r'\\d{2} (?:Jan|Feb|Mar|Apr|May|Jun|Jul|Aug|Sep|Oct|Nov|Dec) \\d{4}', dateStr)"
   ]
  },
  {
   "cell_type": "code",
   "execution_count": 27,
   "metadata": {},
   "outputs": [
    {
     "data": {
      "text/plain": [
       "['23 Oct 2002', '23 October 2002']"
      ]
     },
     "execution_count": 27,
     "metadata": {},
     "output_type": "execute_result"
    }
   ],
   "source": [
    "# XX ((Mon)th) XXXX \n",
    "re.findall(r'\\d{2} (?:Jan|Feb|Mar|Apr|May|Jun|Jul|Aug|Sep|Oct|Nov|Dec)[a-z]* \\d{4}', dateStr)"
   ]
  },
  {
   "cell_type": "code",
   "execution_count": 28,
   "metadata": {},
   "outputs": [
    {
     "data": {
      "text/plain": [
       "['23 Oct 2002', '23 October 2002', 'Oct 23, 2002', 'October 23, 2002']"
      ]
     },
     "execution_count": 28,
     "metadata": {},
     "output_type": "execute_result"
    }
   ],
   "source": [
    "# XX ((Mon)th) XX, (XXXX)\n",
    "re.findall(r'(?:\\d{2} )?(?:Jan|Feb|Mar|Apr|May|Jun|Jul|Aug|Sep|Oct|Nov|Dec)[a-z]* (?:\\d{2}, )?\\d{4}', dateStr)"
   ]
  },
  {
   "cell_type": "code",
   "execution_count": 29,
   "metadata": {},
   "outputs": [
    {
     "data": {
      "text/plain": [
       "['23 Oct 2002', '23 October 2002', 'Oct 23, 2002', 'October 23, 2002']"
      ]
     },
     "execution_count": 29,
     "metadata": {},
     "output_type": "execute_result"
    }
   ],
   "source": [
    "# X(X) ((Mon)th) X(X), (XXXX)\n",
    "re.findall(r'(?:\\d{1,2} )?(?:Jan|Feb|Mar|Apr|May|Jun|Jul|Aug|Sep|Oct|Nov|Dec)[a-z]* (?:\\d{1,2}, )?\\d{4}', dateStr)"
   ]
  },
  {
   "cell_type": "markdown",
   "metadata": {},
   "source": [
    "### Working with Text Data in Pandas"
   ]
  },
  {
   "cell_type": "code",
   "execution_count": 30,
   "metadata": {
    "scrolled": true
   },
   "outputs": [
    {
     "data": {
      "text/html": [
       "<div>\n",
       "<style scoped>\n",
       "    .dataframe tbody tr th:only-of-type {\n",
       "        vertical-align: middle;\n",
       "    }\n",
       "\n",
       "    .dataframe tbody tr th {\n",
       "        vertical-align: top;\n",
       "    }\n",
       "\n",
       "    .dataframe thead th {\n",
       "        text-align: right;\n",
       "    }\n",
       "</style>\n",
       "<table border=\"1\" class=\"dataframe\">\n",
       "  <thead>\n",
       "    <tr style=\"text-align: right;\">\n",
       "      <th></th>\n",
       "      <th>text</th>\n",
       "    </tr>\n",
       "  </thead>\n",
       "  <tbody>\n",
       "    <tr>\n",
       "      <th>0</th>\n",
       "      <td>Monday: The doctor's appointment is at 2:45pm.</td>\n",
       "    </tr>\n",
       "    <tr>\n",
       "      <th>1</th>\n",
       "      <td>Tuesday: The dentist's appointment is at 11:30...</td>\n",
       "    </tr>\n",
       "    <tr>\n",
       "      <th>2</th>\n",
       "      <td>Wednesday: At 7:00pm, there is a basketball game!</td>\n",
       "    </tr>\n",
       "    <tr>\n",
       "      <th>3</th>\n",
       "      <td>Thursday: Be back home by 11:15 pm at the latest.</td>\n",
       "    </tr>\n",
       "    <tr>\n",
       "      <th>4</th>\n",
       "      <td>Friday: Take the train at 08:10 am, arrive at ...</td>\n",
       "    </tr>\n",
       "  </tbody>\n",
       "</table>\n",
       "</div>"
      ],
      "text/plain": [
       "                                                text\n",
       "0     Monday: The doctor's appointment is at 2:45pm.\n",
       "1  Tuesday: The dentist's appointment is at 11:30...\n",
       "2  Wednesday: At 7:00pm, there is a basketball game!\n",
       "3  Thursday: Be back home by 11:15 pm at the latest.\n",
       "4  Friday: Take the train at 08:10 am, arrive at ..."
      ]
     },
     "execution_count": 30,
     "metadata": {},
     "output_type": "execute_result"
    }
   ],
   "source": [
    "import pandas as pd\n",
    "\n",
    "time_sentences = [\"Monday: The doctor's appointment is at 2:45pm.\", \n",
    "                  \"Tuesday: The dentist's appointment is at 11:30 am.\",\n",
    "                  \"Wednesday: At 7:00pm, there is a basketball game!\",\n",
    "                  \"Thursday: Be back home by 11:15 pm at the latest.\",\n",
    "                  \"Friday: Take the train at 08:10 am, arrive at 09:00am.\"]\n",
    "\n",
    "df = pd.DataFrame(time_sentences, columns=['text'])\n",
    "df"
   ]
  },
  {
   "cell_type": "code",
   "execution_count": 31,
   "metadata": {},
   "outputs": [
    {
     "data": {
      "text/plain": [
       "0    46\n",
       "1    50\n",
       "2    49\n",
       "3    49\n",
       "4    54\n",
       "Name: text, dtype: int64"
      ]
     },
     "execution_count": 31,
     "metadata": {},
     "output_type": "execute_result"
    }
   ],
   "source": [
    "# Find the number of characters for each string in df['text']\n",
    "df['text'].str.len()"
   ]
  },
  {
   "cell_type": "code",
   "execution_count": 32,
   "metadata": {},
   "outputs": [
    {
     "data": {
      "text/plain": [
       "0     7\n",
       "1     8\n",
       "2     8\n",
       "3    10\n",
       "4    10\n",
       "Name: text, dtype: int64"
      ]
     },
     "execution_count": 32,
     "metadata": {},
     "output_type": "execute_result"
    }
   ],
   "source": [
    "# Find the number of tokens for each string in df['text']\n",
    "df['text'].str.split().str.len()"
   ]
  },
  {
   "cell_type": "code",
   "execution_count": 33,
   "metadata": {},
   "outputs": [
    {
     "data": {
      "text/plain": [
       "0     True\n",
       "1     True\n",
       "2    False\n",
       "3    False\n",
       "4    False\n",
       "Name: text, dtype: bool"
      ]
     },
     "execution_count": 33,
     "metadata": {},
     "output_type": "execute_result"
    }
   ],
   "source": [
    "# Find which entries contain the word 'appointment'\n",
    "df['text'].str.contains('appointment')"
   ]
  },
  {
   "cell_type": "code",
   "execution_count": 34,
   "metadata": {},
   "outputs": [
    {
     "data": {
      "text/plain": [
       "0    3\n",
       "1    4\n",
       "2    3\n",
       "3    4\n",
       "4    8\n",
       "Name: text, dtype: int64"
      ]
     },
     "execution_count": 34,
     "metadata": {},
     "output_type": "execute_result"
    }
   ],
   "source": [
    "# Find how many times a digit occurs in each string\n",
    "df['text'].str.count(r'\\d')"
   ]
  },
  {
   "cell_type": "code",
   "execution_count": 35,
   "metadata": {},
   "outputs": [
    {
     "data": {
      "text/plain": [
       "0                   [2, 4, 5]\n",
       "1                [1, 1, 3, 0]\n",
       "2                   [7, 0, 0]\n",
       "3                [1, 1, 1, 5]\n",
       "4    [0, 8, 1, 0, 0, 9, 0, 0]\n",
       "Name: text, dtype: object"
      ]
     },
     "execution_count": 35,
     "metadata": {},
     "output_type": "execute_result"
    }
   ],
   "source": [
    "# Find all occurances of the digits\n",
    "df['text'].str.findall(r'\\d')"
   ]
  },
  {
   "cell_type": "code",
   "execution_count": 36,
   "metadata": {},
   "outputs": [
    {
     "data": {
      "text/plain": [
       "0               [(2, 45)]\n",
       "1              [(11, 30)]\n",
       "2               [(7, 00)]\n",
       "3              [(11, 15)]\n",
       "4    [(08, 10), (09, 00)]\n",
       "Name: text, dtype: object"
      ]
     },
     "execution_count": 36,
     "metadata": {},
     "output_type": "execute_result"
    }
   ],
   "source": [
    "# Group and find the hours and minutes\n",
    "df['text'].str.findall(r'(\\d?\\d):(\\d\\d)')"
   ]
  },
  {
   "cell_type": "code",
   "execution_count": 37,
   "metadata": {},
   "outputs": [
    {
     "data": {
      "text/plain": [
       "0          ???: The doctor's appointment is at 2:45pm.\n",
       "1       ???: The dentist's appointment is at 11:30 am.\n",
       "2          ???: At 7:00pm, there is a basketball game!\n",
       "3         ???: Be back home by 11:15 pm at the latest.\n",
       "4    ???: Take the train at 08:10 am, arrive at 09:...\n",
       "Name: text, dtype: object"
      ]
     },
     "execution_count": 37,
     "metadata": {},
     "output_type": "execute_result"
    }
   ],
   "source": [
    "# Replace weekdays with '???'\n",
    "df['text'].str.replace(r'\\w+day\\b', '???')"
   ]
  },
  {
   "cell_type": "code",
   "execution_count": 38,
   "metadata": {},
   "outputs": [
    {
     "data": {
      "text/plain": [
       "0          Mon: The doctor's appointment is at 2:45pm.\n",
       "1       Tue: The dentist's appointment is at 11:30 am.\n",
       "2          Wed: At 7:00pm, there is a basketball game!\n",
       "3         Thu: Be back home by 11:15 pm at the latest.\n",
       "4    Fri: Take the train at 08:10 am, arrive at 09:...\n",
       "Name: text, dtype: object"
      ]
     },
     "execution_count": 38,
     "metadata": {},
     "output_type": "execute_result"
    }
   ],
   "source": [
    "# Replace weekdays with 3 letter abbrevations\n",
    "df['text'].str.replace(r'(\\w+day\\b)', lambda x: x.groups()[0][:3])"
   ]
  },
  {
   "cell_type": "code",
   "execution_count": 39,
   "metadata": {},
   "outputs": [
    {
     "data": {
      "text/html": [
       "<div>\n",
       "<style scoped>\n",
       "    .dataframe tbody tr th:only-of-type {\n",
       "        vertical-align: middle;\n",
       "    }\n",
       "\n",
       "    .dataframe tbody tr th {\n",
       "        vertical-align: top;\n",
       "    }\n",
       "\n",
       "    .dataframe thead th {\n",
       "        text-align: right;\n",
       "    }\n",
       "</style>\n",
       "<table border=\"1\" class=\"dataframe\">\n",
       "  <thead>\n",
       "    <tr style=\"text-align: right;\">\n",
       "      <th></th>\n",
       "      <th>0</th>\n",
       "      <th>1</th>\n",
       "    </tr>\n",
       "  </thead>\n",
       "  <tbody>\n",
       "    <tr>\n",
       "      <th>0</th>\n",
       "      <td>2</td>\n",
       "      <td>45</td>\n",
       "    </tr>\n",
       "    <tr>\n",
       "      <th>1</th>\n",
       "      <td>11</td>\n",
       "      <td>30</td>\n",
       "    </tr>\n",
       "    <tr>\n",
       "      <th>2</th>\n",
       "      <td>7</td>\n",
       "      <td>00</td>\n",
       "    </tr>\n",
       "    <tr>\n",
       "      <th>3</th>\n",
       "      <td>11</td>\n",
       "      <td>15</td>\n",
       "    </tr>\n",
       "    <tr>\n",
       "      <th>4</th>\n",
       "      <td>08</td>\n",
       "      <td>10</td>\n",
       "    </tr>\n",
       "  </tbody>\n",
       "</table>\n",
       "</div>"
      ],
      "text/plain": [
       "    0   1\n",
       "0   2  45\n",
       "1  11  30\n",
       "2   7  00\n",
       "3  11  15\n",
       "4  08  10"
      ]
     },
     "execution_count": 39,
     "metadata": {},
     "output_type": "execute_result"
    }
   ],
   "source": [
    "# Create new columns from first match of extracted groups\n",
    "df['text'].str.extract(r'(\\d?\\d):(\\d\\d)')"
   ]
  },
  {
   "cell_type": "code",
   "execution_count": 40,
   "metadata": {},
   "outputs": [
    {
     "data": {
      "text/html": [
       "<div>\n",
       "<style scoped>\n",
       "    .dataframe tbody tr th:only-of-type {\n",
       "        vertical-align: middle;\n",
       "    }\n",
       "\n",
       "    .dataframe tbody tr th {\n",
       "        vertical-align: top;\n",
       "    }\n",
       "\n",
       "    .dataframe thead th {\n",
       "        text-align: right;\n",
       "    }\n",
       "</style>\n",
       "<table border=\"1\" class=\"dataframe\">\n",
       "  <thead>\n",
       "    <tr style=\"text-align: right;\">\n",
       "      <th></th>\n",
       "      <th></th>\n",
       "      <th>0</th>\n",
       "      <th>1</th>\n",
       "      <th>2</th>\n",
       "      <th>3</th>\n",
       "    </tr>\n",
       "    <tr>\n",
       "      <th></th>\n",
       "      <th>match</th>\n",
       "      <th></th>\n",
       "      <th></th>\n",
       "      <th></th>\n",
       "      <th></th>\n",
       "    </tr>\n",
       "  </thead>\n",
       "  <tbody>\n",
       "    <tr>\n",
       "      <th>0</th>\n",
       "      <th>0</th>\n",
       "      <td>2:45pm</td>\n",
       "      <td>2</td>\n",
       "      <td>45</td>\n",
       "      <td>pm</td>\n",
       "    </tr>\n",
       "    <tr>\n",
       "      <th>1</th>\n",
       "      <th>0</th>\n",
       "      <td>11:30 am</td>\n",
       "      <td>11</td>\n",
       "      <td>30</td>\n",
       "      <td>am</td>\n",
       "    </tr>\n",
       "    <tr>\n",
       "      <th>2</th>\n",
       "      <th>0</th>\n",
       "      <td>7:00pm</td>\n",
       "      <td>7</td>\n",
       "      <td>00</td>\n",
       "      <td>pm</td>\n",
       "    </tr>\n",
       "    <tr>\n",
       "      <th>3</th>\n",
       "      <th>0</th>\n",
       "      <td>11:15 pm</td>\n",
       "      <td>11</td>\n",
       "      <td>15</td>\n",
       "      <td>pm</td>\n",
       "    </tr>\n",
       "    <tr>\n",
       "      <th rowspan=\"2\" valign=\"top\">4</th>\n",
       "      <th>0</th>\n",
       "      <td>08:10 am</td>\n",
       "      <td>08</td>\n",
       "      <td>10</td>\n",
       "      <td>am</td>\n",
       "    </tr>\n",
       "    <tr>\n",
       "      <th>1</th>\n",
       "      <td>09:00am</td>\n",
       "      <td>09</td>\n",
       "      <td>00</td>\n",
       "      <td>am</td>\n",
       "    </tr>\n",
       "  </tbody>\n",
       "</table>\n",
       "</div>"
      ],
      "text/plain": [
       "                0   1   2   3\n",
       "  match                      \n",
       "0 0        2:45pm   2  45  pm\n",
       "1 0      11:30 am  11  30  am\n",
       "2 0        7:00pm   7  00  pm\n",
       "3 0      11:15 pm  11  15  pm\n",
       "4 0      08:10 am  08  10  am\n",
       "  1       09:00am  09  00  am"
      ]
     },
     "execution_count": 40,
     "metadata": {},
     "output_type": "execute_result"
    }
   ],
   "source": [
    "# Extract the entire time, the hours, the minutes, and the period\n",
    "df['text'].str.extractall(r'((\\d?\\d):(\\d\\d) ?([ap]m))')"
   ]
  },
  {
   "cell_type": "code",
   "execution_count": 41,
   "metadata": {
    "scrolled": true
   },
   "outputs": [
    {
     "data": {
      "text/html": [
       "<div>\n",
       "<style scoped>\n",
       "    .dataframe tbody tr th:only-of-type {\n",
       "        vertical-align: middle;\n",
       "    }\n",
       "\n",
       "    .dataframe tbody tr th {\n",
       "        vertical-align: top;\n",
       "    }\n",
       "\n",
       "    .dataframe thead th {\n",
       "        text-align: right;\n",
       "    }\n",
       "</style>\n",
       "<table border=\"1\" class=\"dataframe\">\n",
       "  <thead>\n",
       "    <tr style=\"text-align: right;\">\n",
       "      <th></th>\n",
       "      <th></th>\n",
       "      <th>time</th>\n",
       "      <th>hour</th>\n",
       "      <th>minute</th>\n",
       "      <th>period</th>\n",
       "    </tr>\n",
       "    <tr>\n",
       "      <th></th>\n",
       "      <th>match</th>\n",
       "      <th></th>\n",
       "      <th></th>\n",
       "      <th></th>\n",
       "      <th></th>\n",
       "    </tr>\n",
       "  </thead>\n",
       "  <tbody>\n",
       "    <tr>\n",
       "      <th>0</th>\n",
       "      <th>0</th>\n",
       "      <td>2:45pm</td>\n",
       "      <td>2</td>\n",
       "      <td>45</td>\n",
       "      <td>pm</td>\n",
       "    </tr>\n",
       "    <tr>\n",
       "      <th>1</th>\n",
       "      <th>0</th>\n",
       "      <td>11:30 am</td>\n",
       "      <td>11</td>\n",
       "      <td>30</td>\n",
       "      <td>am</td>\n",
       "    </tr>\n",
       "    <tr>\n",
       "      <th>2</th>\n",
       "      <th>0</th>\n",
       "      <td>7:00pm</td>\n",
       "      <td>7</td>\n",
       "      <td>00</td>\n",
       "      <td>pm</td>\n",
       "    </tr>\n",
       "    <tr>\n",
       "      <th>3</th>\n",
       "      <th>0</th>\n",
       "      <td>11:15 pm</td>\n",
       "      <td>11</td>\n",
       "      <td>15</td>\n",
       "      <td>pm</td>\n",
       "    </tr>\n",
       "    <tr>\n",
       "      <th rowspan=\"2\" valign=\"top\">4</th>\n",
       "      <th>0</th>\n",
       "      <td>08:10 am</td>\n",
       "      <td>08</td>\n",
       "      <td>10</td>\n",
       "      <td>am</td>\n",
       "    </tr>\n",
       "    <tr>\n",
       "      <th>1</th>\n",
       "      <td>09:00am</td>\n",
       "      <td>09</td>\n",
       "      <td>00</td>\n",
       "      <td>am</td>\n",
       "    </tr>\n",
       "  </tbody>\n",
       "</table>\n",
       "</div>"
      ],
      "text/plain": [
       "             time hour minute period\n",
       "  match                             \n",
       "0 0        2:45pm    2     45     pm\n",
       "1 0      11:30 am   11     30     am\n",
       "2 0        7:00pm    7     00     pm\n",
       "3 0      11:15 pm   11     15     pm\n",
       "4 0      08:10 am   08     10     am\n",
       "  1       09:00am   09     00     am"
      ]
     },
     "execution_count": 41,
     "metadata": {},
     "output_type": "execute_result"
    }
   ],
   "source": [
    "# Extract the entire time, the hours, the minutes, and the period with group names\n",
    "df['text'].str.extractall(r'(?P<time>(?P<hour>\\d?\\d):(?P<minute>\\d\\d) ?(?P<period>[ap]m))')"
   ]
  },
  {
   "cell_type": "markdown",
   "metadata": {},
   "source": [
    "### Internationalization and Issues with Non-ASCII Characters\n",
    "#### English and ASCII\n",
    "* ASCII: American Standard Code for Information Interchange\n",
    "    * 7-bit character encoding standard: 128 valid codes\n",
    "    \n",
    "#### Other Character Encodings\n",
    "* IBM EBCDIC\n",
    "* LATIN-I\n",
    "* JIS: Japanese Industrial Standards\n",
    "* CCCII: Chinese Character Code for Information Interchange\n",
    "* EUC: Extended Unix Code\n",
    "* Unicode and UTF-8 (**Most common**)\n",
    "\n",
    "#### Unicode\n",
    "* Industry standard for encoding and representing text\n",
    "* Over 128,000 characters from 130+ scripts and symbol sets\n",
    "\n",
    "##### UTF-8\n",
    "* Unicode Transformational Format - 8-bits\n",
    "* Variable length encoding: One to four bytes\n",
    "* Backward compatible with ASCII\n",
    "    * One byte codes same as ASCII\n",
    "* Dominant character encoding for the Web\n",
    "* Default in Python 3\n",
    "    * Python3: \"Resume\"\n",
    "    * Python2: u\"Resume\""
   ]
  },
  {
   "cell_type": "markdown",
   "metadata": {},
   "source": [
    "#### Take Home Concepts\n",
    "* Diversity in Text\n",
    "* ASCII and other character encodings\n",
    "* Handling text in UTF-8"
   ]
  },
  {
   "cell_type": "markdown",
   "metadata": {},
   "source": [
    "## Module 2: Basic Natural Language Processing\n",
    "### What is Natural Langauge Processing?\n",
    "* Any computation, manipulation of natural langauge\n",
    "* Natural langauge evolve\n",
    "    * new words get added\n",
    "    * old words lose popularity\n",
    "    * meanings of words change\n",
    "    * language rules themselves may change\n",
    "\n",
    "### NLP Tasks: A Broad Spectrum\n",
    "* Counting words, counting frequency of words\n",
    "* Finding sentence boundaries\n",
    "* Part of speech tagging\n",
    "* Parsing the sentence structure\n",
    "* Identifying semantic rules\n",
    "* Identifying entities in a sentence\n",
    "* Finding which pronoun refers to which entity, and many more..."
   ]
  },
  {
   "cell_type": "markdown",
   "metadata": {},
   "source": [
    "### Basic NLP Tasks with NLTK\n",
    "* NKTK: Natural Langauge Toolkit\n",
    "* Open source library in Python\n",
    "* Has support for most NLP tasks\n",
    "* Also provides access to numerous text corpora\n",
    "* **More advanced tool than regular expressions**"
   ]
  },
  {
   "cell_type": "markdown",
   "metadata": {},
   "source": [
    "#### Set-up"
   ]
  },
  {
   "cell_type": "code",
   "execution_count": 42,
   "metadata": {
    "scrolled": false
   },
   "outputs": [
    {
     "name": "stdout",
     "output_type": "stream",
     "text": [
      "showing info https://raw.githubusercontent.com/nltk/nltk_data/gh-pages/index.xml\n",
      "*** Introductory Examples for the NLTK Book ***\n",
      "Loading text1, ..., text9 and sent1, ..., sent9\n",
      "Type the name of the text or sentence to view it.\n",
      "Type: 'texts()' or 'sents()' to list the materials.\n",
      "text1: Moby Dick by Herman Melville 1851\n",
      "text2: Sense and Sensibility by Jane Austen 1811\n",
      "text3: The Book of Genesis\n",
      "text4: Inaugural Address Corpus\n",
      "text5: Chat Corpus\n",
      "text6: Monty Python and the Holy Grail\n",
      "text7: Wall Street Journal\n",
      "text8: Personals Corpus\n",
      "text9: The Man Who Was Thursday by G . K . Chesterton 1908\n"
     ]
    }
   ],
   "source": [
    "# Import module\n",
    "import nltk\n",
    "nltk.download()\n",
    "from nltk.book import *"
   ]
  },
  {
   "cell_type": "code",
   "execution_count": 43,
   "metadata": {},
   "outputs": [
    {
     "data": {
      "text/plain": [
       "<Text: Moby Dick by Herman Melville 1851>"
      ]
     },
     "execution_count": 43,
     "metadata": {},
     "output_type": "execute_result"
    }
   ],
   "source": [
    "text1"
   ]
  },
  {
   "cell_type": "code",
   "execution_count": 44,
   "metadata": {
    "scrolled": true
   },
   "outputs": [
    {
     "name": "stdout",
     "output_type": "stream",
     "text": [
      "sent1: Call me Ishmael .\n",
      "sent2: The family of Dashwood had long been settled in Sussex .\n",
      "sent3: In the beginning God created the heaven and the earth .\n",
      "sent4: Fellow - Citizens of the Senate and of the House of Representatives :\n",
      "sent5: I have a problem with people PMing me to lol JOIN\n",
      "sent6: SCENE 1 : [ wind ] [ clop clop clop ] KING ARTHUR : Whoa there !\n",
      "sent7: Pierre Vinken , 61 years old , will join the board as a nonexecutive director Nov. 29 .\n",
      "sent8: 25 SEXY MALE , seeks attrac older single lady , for discreet encounters .\n",
      "sent9: THE suburb of Saffron Park lay on the sunset side of London , as red and ragged as a cloud of sunset .\n"
     ]
    }
   ],
   "source": [
    "sents()"
   ]
  },
  {
   "cell_type": "code",
   "execution_count": 45,
   "metadata": {},
   "outputs": [
    {
     "data": {
      "text/plain": [
       "['Call', 'me', 'Ishmael', '.']"
      ]
     },
     "execution_count": 45,
     "metadata": {},
     "output_type": "execute_result"
    }
   ],
   "source": [
    "sent1"
   ]
  },
  {
   "cell_type": "markdown",
   "metadata": {},
   "source": [
    "#### Counting Vocabulary of Words"
   ]
  },
  {
   "cell_type": "code",
   "execution_count": 46,
   "metadata": {},
   "outputs": [
    {
     "data": {
      "text/plain": [
       "<Text: Wall Street Journal>"
      ]
     },
     "execution_count": 46,
     "metadata": {},
     "output_type": "execute_result"
    }
   ],
   "source": [
    "text7"
   ]
  },
  {
   "cell_type": "code",
   "execution_count": 47,
   "metadata": {},
   "outputs": [
    {
     "data": {
      "text/plain": [
       "['Pierre',\n",
       " 'Vinken',\n",
       " ',',\n",
       " '61',\n",
       " 'years',\n",
       " 'old',\n",
       " ',',\n",
       " 'will',\n",
       " 'join',\n",
       " 'the',\n",
       " 'board',\n",
       " 'as',\n",
       " 'a',\n",
       " 'nonexecutive',\n",
       " 'director',\n",
       " 'Nov.',\n",
       " '29',\n",
       " '.']"
      ]
     },
     "execution_count": 47,
     "metadata": {},
     "output_type": "execute_result"
    }
   ],
   "source": [
    "sent7"
   ]
  },
  {
   "cell_type": "code",
   "execution_count": 48,
   "metadata": {},
   "outputs": [
    {
     "data": {
      "text/plain": [
       "18"
      ]
     },
     "execution_count": 48,
     "metadata": {},
     "output_type": "execute_result"
    }
   ],
   "source": [
    "# Words\n",
    "len(sent7)"
   ]
  },
  {
   "cell_type": "code",
   "execution_count": 49,
   "metadata": {},
   "outputs": [
    {
     "data": {
      "text/plain": [
       "100676"
      ]
     },
     "execution_count": 49,
     "metadata": {},
     "output_type": "execute_result"
    }
   ],
   "source": [
    "# Letters\n",
    "len(text7)"
   ]
  },
  {
   "cell_type": "code",
   "execution_count": 50,
   "metadata": {},
   "outputs": [
    {
     "data": {
      "text/plain": [
       "12408"
      ]
     },
     "execution_count": 50,
     "metadata": {},
     "output_type": "execute_result"
    }
   ],
   "source": [
    "# Unique words\n",
    "len(set(text7))"
   ]
  },
  {
   "cell_type": "code",
   "execution_count": 51,
   "metadata": {},
   "outputs": [
    {
     "data": {
      "text/plain": [
       "['high-technology',\n",
       " 'Navy',\n",
       " 'contain',\n",
       " '434.4',\n",
       " 'Avrett',\n",
       " 'T-shirts',\n",
       " 'Economy',\n",
       " 'Society',\n",
       " 'buoyed',\n",
       " 'indicate']"
      ]
     },
     "execution_count": 51,
     "metadata": {},
     "output_type": "execute_result"
    }
   ],
   "source": [
    "# First ten words\n",
    "list(set(text7))[:10]"
   ]
  },
  {
   "cell_type": "markdown",
   "metadata": {},
   "source": [
    "#### Frequency of Words"
   ]
  },
  {
   "cell_type": "code",
   "execution_count": 52,
   "metadata": {},
   "outputs": [
    {
     "data": {
      "text/plain": [
       "12408"
      ]
     },
     "execution_count": 52,
     "metadata": {},
     "output_type": "execute_result"
    }
   ],
   "source": [
    "# Frequency distribution\n",
    "dist = FreqDist(text7)\n",
    "len(dist)"
   ]
  },
  {
   "cell_type": "code",
   "execution_count": 53,
   "metadata": {},
   "outputs": [
    {
     "data": {
      "text/plain": [
       "['Pierre', 'Vinken', ',', '61', 'years', 'old', 'will', 'join', 'the', 'board']"
      ]
     },
     "execution_count": 53,
     "metadata": {},
     "output_type": "execute_result"
    }
   ],
   "source": [
    "vocab1 = dist.keys()\n",
    "#vocab1[:10] \n",
    "# In Python 3 dict.keys() returns an iterable view instead of a list\n",
    "list(vocab1)[:10]"
   ]
  },
  {
   "cell_type": "code",
   "execution_count": 54,
   "metadata": {},
   "outputs": [
    {
     "data": {
      "text/plain": [
       "20"
      ]
     },
     "execution_count": 54,
     "metadata": {},
     "output_type": "execute_result"
    }
   ],
   "source": [
    "dist['four']"
   ]
  },
  {
   "cell_type": "code",
   "execution_count": 55,
   "metadata": {},
   "outputs": [
    {
     "data": {
      "text/plain": [
       "['billion',\n",
       " 'company',\n",
       " 'president',\n",
       " 'because',\n",
       " 'market',\n",
       " 'million',\n",
       " 'shares',\n",
       " 'trading',\n",
       " 'program']"
      ]
     },
     "execution_count": 55,
     "metadata": {},
     "output_type": "execute_result"
    }
   ],
   "source": [
    "# Restriction on the length of the word is important to avoid meaningless words.\n",
    "freqwords = [w for w in vocab1 if len(w) > 5 and dist[w] > 100]\n",
    "freqwords"
   ]
  },
  {
   "cell_type": "markdown",
   "metadata": {},
   "source": [
    "#### Normalization\n",
    "* Differenct forms of the same \"word\"\n",
    "\n",
    "##### Stemming"
   ]
  },
  {
   "cell_type": "code",
   "execution_count": 56,
   "metadata": {},
   "outputs": [
    {
     "data": {
      "text/plain": [
       "['list', 'listed', 'lists', 'listing', 'listings']"
      ]
     },
     "execution_count": 56,
     "metadata": {},
     "output_type": "execute_result"
    }
   ],
   "source": [
    "# Normalization\n",
    "input1 = \"List listed lists listing listings\"\n",
    "words1 = input1.lower().split(' ')\n",
    "words1"
   ]
  },
  {
   "cell_type": "code",
   "execution_count": 57,
   "metadata": {
    "scrolled": true
   },
   "outputs": [
    {
     "data": {
      "text/plain": [
       "['list', 'list', 'list', 'list', 'list']"
      ]
     },
     "execution_count": 57,
     "metadata": {},
     "output_type": "execute_result"
    }
   ],
   "source": [
    "# Extract stem\n",
    "porter = nltk.PorterStemmer()\n",
    "[porter.stem(t) for t in words1]"
   ]
  },
  {
   "cell_type": "code",
   "execution_count": 58,
   "metadata": {
    "scrolled": true
   },
   "outputs": [
    {
     "data": {
      "text/plain": [
       "['Universal',\n",
       " 'Declaration',\n",
       " 'of',\n",
       " 'Human',\n",
       " 'Rights',\n",
       " 'Preamble',\n",
       " 'Whereas',\n",
       " 'recognition',\n",
       " 'of',\n",
       " 'the',\n",
       " 'inherent',\n",
       " 'dignity',\n",
       " 'and',\n",
       " 'of',\n",
       " 'the',\n",
       " 'equal',\n",
       " 'and',\n",
       " 'inalienable',\n",
       " 'rights',\n",
       " 'of']"
      ]
     },
     "execution_count": 58,
     "metadata": {},
     "output_type": "execute_result"
    }
   ],
   "source": [
    "udhr = nltk.corpus.udhr.words('English-Latin1')\n",
    "udhr[:20]"
   ]
  },
  {
   "cell_type": "code",
   "execution_count": 59,
   "metadata": {
    "scrolled": true
   },
   "outputs": [
    {
     "data": {
      "text/plain": [
       "['univers',\n",
       " 'declar',\n",
       " 'of',\n",
       " 'human',\n",
       " 'right',\n",
       " 'preambl',\n",
       " 'wherea',\n",
       " 'recognit',\n",
       " 'of',\n",
       " 'the',\n",
       " 'inher',\n",
       " 'digniti',\n",
       " 'and',\n",
       " 'of',\n",
       " 'the',\n",
       " 'equal',\n",
       " 'and',\n",
       " 'inalien',\n",
       " 'right',\n",
       " 'of']"
      ]
     },
     "execution_count": 59,
     "metadata": {},
     "output_type": "execute_result"
    }
   ],
   "source": [
    "[porter.stem(t) for t in udhr[:20]] # Still Lemmatization"
   ]
  },
  {
   "cell_type": "markdown",
   "metadata": {},
   "source": [
    "##### Lemmatization\n",
    "* Lemmatization: Stemming, but resulting stems are all valid words."
   ]
  },
  {
   "cell_type": "code",
   "execution_count": 60,
   "metadata": {},
   "outputs": [
    {
     "data": {
      "text/plain": [
       "['Universal',\n",
       " 'Declaration',\n",
       " 'of',\n",
       " 'Human',\n",
       " 'Rights',\n",
       " 'Preamble',\n",
       " 'Whereas',\n",
       " 'recognition',\n",
       " 'of',\n",
       " 'the',\n",
       " 'inherent',\n",
       " 'dignity',\n",
       " 'and',\n",
       " 'of',\n",
       " 'the',\n",
       " 'equal',\n",
       " 'and',\n",
       " 'inalienable',\n",
       " 'right',\n",
       " 'of']"
      ]
     },
     "execution_count": 60,
     "metadata": {},
     "output_type": "execute_result"
    }
   ],
   "source": [
    "WNlemma = nltk.WordNetLemmatizer()\n",
    "[WNlemma.lemmatize(t) for t in udhr[:20]]"
   ]
  },
  {
   "cell_type": "markdown",
   "metadata": {},
   "source": [
    "#### Tokenization\n",
    "* Spliting a sentence into words/tokens"
   ]
  },
  {
   "cell_type": "code",
   "execution_count": 61,
   "metadata": {},
   "outputs": [
    {
     "data": {
      "text/plain": [
       "['Children', \"shouldn't\", 'drink', 'a', 'sugary', 'drink', 'before', 'bed.']"
      ]
     },
     "execution_count": 61,
     "metadata": {},
     "output_type": "execute_result"
    }
   ],
   "source": [
    "text11 = \"Children shouldn't drink a sugary drink before bed.\"\n",
    "text11.split(' ')"
   ]
  },
  {
   "cell_type": "markdown",
   "metadata": {},
   "source": [
    "* NLTK has an in-bulit tokenizer"
   ]
  },
  {
   "cell_type": "code",
   "execution_count": 62,
   "metadata": {
    "scrolled": true
   },
   "outputs": [
    {
     "data": {
      "text/plain": [
       "['Children',\n",
       " 'should',\n",
       " \"n't\",\n",
       " 'drink',\n",
       " 'a',\n",
       " 'sugary',\n",
       " 'drink',\n",
       " 'before',\n",
       " 'bed',\n",
       " '.']"
      ]
     },
     "execution_count": 62,
     "metadata": {},
     "output_type": "execute_result"
    }
   ],
   "source": [
    "# Tokenization separates negation and full stop\n",
    "nltk.word_tokenize(text11)"
   ]
  },
  {
   "cell_type": "markdown",
   "metadata": {},
   "source": [
    "* More fundamental question: what is a sentence and how do you know sentence boundaries?"
   ]
  },
  {
   "cell_type": "code",
   "execution_count": 63,
   "metadata": {},
   "outputs": [],
   "source": [
    "# Puntuation marks separate sentences, but not all of them (e.g. $2.99.)\n",
    "text12 = \"This is the first sentence. A gallon of milk in the U.S. costs $2.99. Is this the third sentence? Yes, it is!\""
   ]
  },
  {
   "cell_type": "markdown",
   "metadata": {},
   "source": [
    "* NLTK has an in-built sentence splitter."
   ]
  },
  {
   "cell_type": "code",
   "execution_count": 64,
   "metadata": {},
   "outputs": [
    {
     "data": {
      "text/plain": [
       "4"
      ]
     },
     "execution_count": 64,
     "metadata": {},
     "output_type": "execute_result"
    }
   ],
   "source": [
    "sentences = nltk.sent_tokenize(text12)\n",
    "len(sentences)"
   ]
  },
  {
   "cell_type": "code",
   "execution_count": 65,
   "metadata": {},
   "outputs": [
    {
     "data": {
      "text/plain": [
       "['This is the first sentence.',\n",
       " 'A gallon of milk in the U.S. costs $2.99.',\n",
       " 'Is this the third sentence?',\n",
       " 'Yes, it is!']"
      ]
     },
     "execution_count": 65,
     "metadata": {},
     "output_type": "execute_result"
    }
   ],
   "source": [
    "sentences"
   ]
  },
  {
   "cell_type": "markdown",
   "metadata": {},
   "source": [
    "### Advanced NLP Tasks with NLTK"
   ]
  },
  {
   "cell_type": "markdown",
   "metadata": {},
   "source": [
    "#### POS tagging"
   ]
  },
  {
   "cell_type": "code",
   "execution_count": 66,
   "metadata": {
    "scrolled": true
   },
   "outputs": [
    {
     "name": "stdout",
     "output_type": "stream",
     "text": [
      "MD: modal auxiliary\n",
      "    can cannot could couldn't dare may might must need ought shall should\n",
      "    shouldn't will would\n"
     ]
    }
   ],
   "source": [
    "import nltk\n",
    "\n",
    "# Descriptions of the tag names. \n",
    "nltk.help.upenn_tagset('MD')"
   ]
  },
  {
   "cell_type": "code",
   "execution_count": 81,
   "metadata": {
    "scrolled": true
   },
   "outputs": [
    {
     "name": "stdout",
     "output_type": "stream",
     "text": [
      "$: dollar\n",
      "    $ -$ --$ A$ C$ HK$ M$ NZ$ S$ U.S.$ US$\n",
      "'': closing quotation mark\n",
      "    ' ''\n",
      "(: opening parenthesis\n",
      "    ( [ {\n",
      "): closing parenthesis\n",
      "    ) ] }\n",
      ",: comma\n",
      "    ,\n",
      "--: dash\n",
      "    --\n",
      ".: sentence terminator\n",
      "    . ! ?\n",
      ":: colon or ellipsis\n",
      "    : ; ...\n",
      "CC: conjunction, coordinating\n",
      "    & 'n and both but either et for less minus neither nor or plus so\n",
      "    therefore times v. versus vs. whether yet\n",
      "CD: numeral, cardinal\n",
      "    mid-1890 nine-thirty forty-two one-tenth ten million 0.5 one forty-\n",
      "    seven 1987 twenty '79 zero two 78-degrees eighty-four IX '60s .025\n",
      "    fifteen 271,124 dozen quintillion DM2,000 ...\n",
      "DT: determiner\n",
      "    all an another any both del each either every half la many much nary\n",
      "    neither no some such that the them these this those\n",
      "EX: existential there\n",
      "    there\n",
      "FW: foreign word\n",
      "    gemeinschaft hund ich jeux habeas Haementeria Herr K'ang-si vous\n",
      "    lutihaw alai je jour objets salutaris fille quibusdam pas trop Monte\n",
      "    terram fiche oui corporis ...\n",
      "IN: preposition or conjunction, subordinating\n",
      "    astride among uppon whether out inside pro despite on by throughout\n",
      "    below within for towards near behind atop around if like until below\n",
      "    next into if beside ...\n",
      "JJ: adjective or numeral, ordinal\n",
      "    third ill-mannered pre-war regrettable oiled calamitous first separable\n",
      "    ectoplasmic battery-powered participatory fourth still-to-be-named\n",
      "    multilingual multi-disciplinary ...\n",
      "JJR: adjective, comparative\n",
      "    bleaker braver breezier briefer brighter brisker broader bumper busier\n",
      "    calmer cheaper choosier cleaner clearer closer colder commoner costlier\n",
      "    cozier creamier crunchier cuter ...\n",
      "JJS: adjective, superlative\n",
      "    calmest cheapest choicest classiest cleanest clearest closest commonest\n",
      "    corniest costliest crassest creepiest crudest cutest darkest deadliest\n",
      "    dearest deepest densest dinkiest ...\n",
      "LS: list item marker\n",
      "    A A. B B. C C. D E F First G H I J K One SP-44001 SP-44002 SP-44005\n",
      "    SP-44007 Second Third Three Two * a b c d first five four one six three\n",
      "    two\n",
      "MD: modal auxiliary\n",
      "    can cannot could couldn't dare may might must need ought shall should\n",
      "    shouldn't will would\n",
      "NN: noun, common, singular or mass\n",
      "    common-carrier cabbage knuckle-duster Casino afghan shed thermostat\n",
      "    investment slide humour falloff slick wind hyena override subhumanity\n",
      "    machinist ...\n",
      "NNP: noun, proper, singular\n",
      "    Motown Venneboerger Czestochwa Ranzer Conchita Trumplane Christos\n",
      "    Oceanside Escobar Kreisler Sawyer Cougar Yvette Ervin ODI Darryl CTCA\n",
      "    Shannon A.K.C. Meltex Liverpool ...\n",
      "NNPS: noun, proper, plural\n",
      "    Americans Americas Amharas Amityvilles Amusements Anarcho-Syndicalists\n",
      "    Andalusians Andes Andruses Angels Animals Anthony Antilles Antiques\n",
      "    Apache Apaches Apocrypha ...\n",
      "NNS: noun, common, plural\n",
      "    undergraduates scotches bric-a-brac products bodyguards facets coasts\n",
      "    divestitures storehouses designs clubs fragrances averages\n",
      "    subjectivists apprehensions muses factory-jobs ...\n",
      "PDT: pre-determiner\n",
      "    all both half many quite such sure this\n",
      "POS: genitive marker\n",
      "    ' 's\n",
      "PRP: pronoun, personal\n",
      "    hers herself him himself hisself it itself me myself one oneself ours\n",
      "    ourselves ownself self she thee theirs them themselves they thou thy us\n",
      "PRP$: pronoun, possessive\n",
      "    her his mine my our ours their thy your\n",
      "RB: adverb\n",
      "    occasionally unabatingly maddeningly adventurously professedly\n",
      "    stirringly prominently technologically magisterially predominately\n",
      "    swiftly fiscally pitilessly ...\n",
      "RBR: adverb, comparative\n",
      "    further gloomier grander graver greater grimmer harder harsher\n",
      "    healthier heavier higher however larger later leaner lengthier less-\n",
      "    perfectly lesser lonelier longer louder lower more ...\n",
      "RBS: adverb, superlative\n",
      "    best biggest bluntest earliest farthest first furthest hardest\n",
      "    heartiest highest largest least less most nearest second tightest worst\n",
      "RP: particle\n",
      "    aboard about across along apart around aside at away back before behind\n",
      "    by crop down ever fast for forth from go high i.e. in into just later\n",
      "    low more off on open out over per pie raising start teeth that through\n",
      "    under unto up up-pp upon whole with you\n",
      "SYM: symbol\n",
      "    % & ' '' ''. ) ). * + ,. < = > @ A[fj] U.S U.S.S.R * ** ***\n",
      "TO: \"to\" as preposition or infinitive marker\n",
      "    to\n",
      "UH: interjection\n",
      "    Goodbye Goody Gosh Wow Jeepers Jee-sus Hubba Hey Kee-reist Oops amen\n",
      "    huh howdy uh dammit whammo shucks heck anyways whodunnit honey golly\n",
      "    man baby diddle hush sonuvabitch ...\n",
      "VB: verb, base form\n",
      "    ask assemble assess assign assume atone attention avoid bake balkanize\n",
      "    bank begin behold believe bend benefit bevel beware bless boil bomb\n",
      "    boost brace break bring broil brush build ...\n",
      "VBD: verb, past tense\n",
      "    dipped pleaded swiped regummed soaked tidied convened halted registered\n",
      "    cushioned exacted snubbed strode aimed adopted belied figgered\n",
      "    speculated wore appreciated contemplated ...\n",
      "VBG: verb, present participle or gerund\n",
      "    telegraphing stirring focusing angering judging stalling lactating\n",
      "    hankerin' alleging veering capping approaching traveling besieging\n",
      "    encrypting interrupting erasing wincing ...\n",
      "VBN: verb, past participle\n",
      "    multihulled dilapidated aerosolized chaired languished panelized used\n",
      "    experimented flourished imitated reunifed factored condensed sheared\n",
      "    unsettled primed dubbed desired ...\n",
      "VBP: verb, present tense, not 3rd person singular\n",
      "    predominate wrap resort sue twist spill cure lengthen brush terminate\n",
      "    appear tend stray glisten obtain comprise detest tease attract\n",
      "    emphasize mold postpone sever return wag ...\n",
      "VBZ: verb, present tense, 3rd person singular\n",
      "    bases reconstructs marks mixes displeases seals carps weaves snatches\n",
      "    slumps stretches authorizes smolders pictures emerges stockpiles\n",
      "    seduces fizzes uses bolsters slaps speaks pleads ...\n",
      "WDT: WH-determiner\n",
      "    that what whatever which whichever\n",
      "WP: WH-pronoun\n",
      "    that what whatever whatsoever which who whom whosoever\n",
      "WP$: WH-pronoun, possessive\n",
      "    whose\n",
      "WRB: Wh-adverb\n",
      "    how however whence whenever where whereby whereever wherein whereof why\n",
      "``: opening quotation mark\n",
      "    ` ``\n"
     ]
    }
   ],
   "source": [
    "# Help\n",
    "nltk.help.upenn_tagset()"
   ]
  },
  {
   "cell_type": "code",
   "execution_count": 67,
   "metadata": {
    "scrolled": true
   },
   "outputs": [
    {
     "data": {
      "text/plain": [
       "[('Children', 'NNP'),\n",
       " ('should', 'MD'),\n",
       " (\"n't\", 'RB'),\n",
       " ('drink', 'VB'),\n",
       " ('a', 'DT'),\n",
       " ('sugary', 'JJ'),\n",
       " ('drink', 'NN'),\n",
       " ('before', 'IN'),\n",
       " ('bed', 'NN'),\n",
       " ('.', '.')]"
      ]
     },
     "execution_count": 67,
     "metadata": {},
     "output_type": "execute_result"
    }
   ],
   "source": [
    "text13 = nltk.word_tokenize(text11)\n",
    "nltk.pos_tag(text13)"
   ]
  },
  {
   "cell_type": "markdown",
   "metadata": {},
   "source": [
    "* POS tagging allows you to group multiple words into a single category according to their part of speech\n",
    "* Useful for feature engineering"
   ]
  },
  {
   "cell_type": "markdown",
   "metadata": {},
   "source": [
    "#### Ambiguity in POS Tagging\n",
    "* Ambiguity is common in English\n",
    "* e.g. \"Visiting aunts can be a nuisance\" has two meaings:\n",
    "    * \"Aunts\" who are visiting can be nuisance.\n",
    "    * The act of \"visiting\" aunts can be nuisance. "
   ]
  },
  {
   "cell_type": "code",
   "execution_count": 68,
   "metadata": {
    "scrolled": true
   },
   "outputs": [
    {
     "data": {
      "text/plain": [
       "[('Visiting', 'VBG'),\n",
       " ('aunts', 'NNS'),\n",
       " ('can', 'MD'),\n",
       " ('be', 'VB'),\n",
       " ('a', 'DT'),\n",
       " ('nuisance', 'NN')]"
      ]
     },
     "execution_count": 68,
     "metadata": {},
     "output_type": "execute_result"
    }
   ],
   "source": [
    "text14 = nltk.word_tokenize(\"Visiting aunts can be a nuisance\")\n",
    "nltk.pos_tag(text14)"
   ]
  },
  {
   "cell_type": "markdown",
   "metadata": {},
   "source": [
    "* POS tagging points only one sort of tag though \"visiting\" can be either adjectives or gerend.\n",
    "* The probability of finding \"visiting\" as an adjective is lower so the gerend winds up, though the alternative is still valid."
   ]
  },
  {
   "cell_type": "code",
   "execution_count": 69,
   "metadata": {},
   "outputs": [
    {
     "name": "stdout",
     "output_type": "stream",
     "text": [
      "(S (NP Alice) (VP (V loves) (NP Bob)))\n"
     ]
    }
   ],
   "source": [
    "# Parsing sentence structure\n",
    "text15 = nltk.word_tokenize(\"Alice loves Bob\")\n",
    "grammar = nltk.CFG.fromstring(\"\"\"\n",
    "S -> NP VP\n",
    "VP -> V NP\n",
    "NP -> 'Alice' | 'Bob'\n",
    "V -> 'loves'\n",
    "\"\"\")\n",
    "\n",
    "parser = nltk.ChartParser(grammar)\n",
    "trees = parser.parse_all(text15)\n",
    "for tree in trees:\n",
    "    print(tree)"
   ]
  },
  {
   "cell_type": "markdown",
   "metadata": {},
   "source": [
    "#### Ambiguity in Parsing\n",
    "* Ambiguity may exist even if sentences are grammatically correct."
   ]
  },
  {
   "cell_type": "code",
   "execution_count": 79,
   "metadata": {
    "scrolled": true
   },
   "outputs": [
    {
     "data": {
      "text/plain": [
       "<Grammar with 13 productions>"
      ]
     },
     "execution_count": 79,
     "metadata": {},
     "output_type": "execute_result"
    }
   ],
   "source": [
    "# Preposition attachment problem\n",
    "text16 = nltk.word_tokenize(\"I saw the man with a telescope\")\n",
    "grammar1 = nltk.data.load('mygrammar.cfg')\n",
    "grammar1"
   ]
  },
  {
   "cell_type": "code",
   "execution_count": 80,
   "metadata": {},
   "outputs": [
    {
     "name": "stdout",
     "output_type": "stream",
     "text": [
      "(S\n",
      "  (NP I)\n",
      "  (VP\n",
      "    (VP (V saw) (NP (Det the) (N man)))\n",
      "    (PP (P with) (NP (Det a) (N telescope)))))\n",
      "(S\n",
      "  (NP I)\n",
      "  (VP\n",
      "    (V saw)\n",
      "    (NP (Det the) (N man) (PP (P with) (NP (Det a) (N telescope))))))\n"
     ]
    }
   ],
   "source": [
    "parser = nltk.ChartParser(grammar1)\n",
    "trees = parser.parse_all(text16)\n",
    "for tree in trees:\n",
    "    print(tree)"
   ]
  },
  {
   "cell_type": "markdown",
   "metadata": {},
   "source": [
    "#### NLTK and Parse Tree Collection\n",
    "* Grammar check requires much manuel work"
   ]
  },
  {
   "cell_type": "code",
   "execution_count": 82,
   "metadata": {},
   "outputs": [
    {
     "name": "stdout",
     "output_type": "stream",
     "text": [
      "(S\n",
      "  (NP-SBJ\n",
      "    (NP (NNP Pierre) (NNP Vinken))\n",
      "    (, ,)\n",
      "    (ADJP (NP (CD 61) (NNS years)) (JJ old))\n",
      "    (, ,))\n",
      "  (VP\n",
      "    (MD will)\n",
      "    (VP\n",
      "      (VB join)\n",
      "      (NP (DT the) (NN board))\n",
      "      (PP-CLR (IN as) (NP (DT a) (JJ nonexecutive) (NN director)))\n",
      "      (NP-TMP (NNP Nov.) (CD 29))))\n",
      "  (. .))\n"
     ]
    }
   ],
   "source": [
    "from nltk.corpus import treebank\n",
    "text17 = treebank.parsed_sents('wsj_0001.mrg')[0]\n",
    "print(text17)"
   ]
  },
  {
   "cell_type": "markdown",
   "metadata": {},
   "source": [
    "#### POS Tagging and Parsing Ambiguity"
   ]
  },
  {
   "cell_type": "code",
   "execution_count": 83,
   "metadata": {},
   "outputs": [
    {
     "data": {
      "text/plain": [
       "[('The', 'DT'), ('old', 'JJ'), ('man', 'NN'), ('the', 'DT'), ('boat', 'NN')]"
      ]
     },
     "execution_count": 83,
     "metadata": {},
     "output_type": "execute_result"
    }
   ],
   "source": [
    "# Uncommon usages of words\n",
    "text18 = nltk.word_tokenize(\"The old man the boat\")\n",
    "nltk.pos_tag(text18)"
   ]
  },
  {
   "cell_type": "code",
   "execution_count": 86,
   "metadata": {
    "scrolled": true
   },
   "outputs": [
    {
     "data": {
      "text/plain": [
       "[('Colorless', 'NNP'),\n",
       " ('green', 'JJ'),\n",
       " ('ideas', 'NNS'),\n",
       " ('sleep', 'VBP'),\n",
       " ('furiously', 'RB')]"
      ]
     },
     "execution_count": 86,
     "metadata": {},
     "output_type": "execute_result"
    }
   ],
   "source": [
    "# Well-formed sentences may still be meaningless\n",
    "text19 = nltk.word_tokenize(\"Colorless green ideas sleep furiously\")\n",
    "nltk.pos_tag(text19)"
   ]
  },
  {
   "cell_type": "markdown",
   "metadata": {},
   "source": [
    "#### Take Home Concepts\n",
    "* POS tagging provides insights into the word classes/types in a sentence.\n",
    "* Parsing the grammatical structures helps derive meaning.\n",
    "* Both tasks are difficult, liguistic ambiguity increases the difficulty even more.\n",
    "* Better models could be learned with supervised learning\n",
    "* NLTK provides access to tools and data for training"
   ]
  },
  {
   "cell_type": "markdown",
   "metadata": {},
   "source": [
    "## Module 3: Text Classification\n",
    "### Classification\n",
    "* Assigning of the correct class label to the given input, given a set of classes.\n",
    "* Examples\n",
    "    * Topic Identification\n",
    "    * Spam Detection\n",
    "    * Sentiment Analysis\n",
    "    * Spelling Correction\n",
    "* Classification is a supervised learning from past instances.\n",
    "\n",
    "#### Supervised Classification\n",
    "* Learn a <font color=\"red\">classification model</font> on properties (\"features\") and their importance(\"weights\") from labeled instances. \n",
    "    * X: Set of attributes or features {x1, x2, ..., xn}\n",
    "    * Y: A \"class\" label from the label set {y1, y2, ..., yk}\n",
    "* Apply the model on new instances to predict the label"
   ]
  },
  {
   "cell_type": "markdown",
   "metadata": {},
   "source": [
    "#### Classification Paradigms\n",
    "* When there are only two possible classes; |Y| = 2:\n",
    "<center><font color=\"red\">Binary Classification</font></center>\n",
    "* When there are more than two possible classes; |Y| > 2:\n",
    "<center><font color=\"red\">Multi-classification</font></center>\n",
    "* When data instances can have two or more labels:\n",
    "<center><font color=\"red\">Multi-label Classification</font></center>"
   ]
  },
  {
   "cell_type": "markdown",
   "metadata": {},
   "source": [
    "#### Questions to Ask in Supervised Learning?\n",
    "* Traning Phase\n",
    "    * What are the features? How do you represent them?\n",
    "    * What is the classification model/algorithm?\n",
    "    * What are the model parameters?\n",
    "    \n",
    "* Inference Phase\n",
    "    * What is the expected performance? What is a good measure?"
   ]
  },
  {
   "cell_type": "markdown",
   "metadata": {},
   "source": [
    "### Identifying Features from Text\n",
    "#### Why is Textual Data Unique?\n",
    "* Textual data presents a unique set of challenges\n",
    "* All the information you need is in the text\n",
    "* But features can be pulled out from text at different granularities.\n",
    "\n",
    "#### Types of Textual Features\n",
    "* Words\n",
    "    * By far the most common class of features\n",
    "    * Handling commonly-occurring words: Stop words\n",
    "    * Normalization: Make lower case vs. leave as-is\n",
    "    * Stemming / Lemmatization\n",
    "    * Characteristics of words: Capitalization\n",
    "    * Parts of speech of words in a sentence\n",
    "    * Grammatical structure, sentence parsing\n",
    "    * Grouping words of similar meaning, semantics\n",
    "        * {buy, purchase}\n",
    "        * {Mr., Ms., Dr., Pror.}; Numbers / Digits; Dates \n",
    "    * Depending on classification tasks, features my come from inside words and word sequence\n",
    "        * bigrams, trigrams, n-grams: \"White House\"\n",
    "        * Character sub-sequences in words: \"ing\", \"ion\", ..."
   ]
  },
  {
   "cell_type": "markdown",
   "metadata": {},
   "source": [
    "### Naive Bayes Classifiers\n",
    "#### Probabilistic Model\n",
    "* Update the likelihood of the class given new information\n",
    "    * e.g. Python (zoology) / Python download (computer science)\n",
    "* <font color='red'>Prior Probability</font>: Pr(y=<font color='green'>Entertainment</font>), Pr(y=<font color='green'>Computer Science</font>), Pr(y=<font color='green'>Zoology</font>)\n",
    "* <font color='red'>Posterior Probability</font>: Pr(y=<font color='green'>Entertainment</font>|x=<font color='blue'>\"Python\"</font>)\n",
    "\n",
    "#### Bayes's Rule\n",
    "<img src=\"https://wikimedia.org/api/rest_v1/media/math/render/svg/87c061fe1c7430a5201eef3fa50f9d00eac78810\">\n",
    "\n",
    "* <font color=\"red\">Naive assumption</font>: Given the class label, features are assumed to be independent of each other\n",
    "--- \n",
    "* y* = argmax(y) Pr(y|X) = argmax(y) Pr(y) * Pr(X|y)  \n",
    "* y* = argmax(y) Pr(y|X) = argmax(y) Pr(y) * ∏ Pr(xi|y)\n",
    "\n",
    "#### Parameters\n",
    "* Prior probabilities: Pr(y) for all y in Y\n",
    "* Likelihood: Pr(xi|y) for all features xi and labels y in Y\n",
    "* If there are 3 classes (|Y|=3) and 100 features in X, how many parameters does Naive Bayes models have?\n",
    "    * 3 + 2 * 3 * 100\n",
    "    \n",
    "#### Learning Parameters\n",
    "* Prior probabilities: Pr(y) for all y in Y\n",
    "    * From training data\n",
    "    * Count the number of instances in each class\n",
    "    * If there are N instances in all, and n out of those are labeled as class y: Pr(y) = n / N\n",
    "    \n",
    "* Likelihood: Pr(xi|y) for all features xi and labels y in Y\n",
    "    * Count how many times fetures xi appears in instances labeled as class y\n",
    "    * If there are p instances of class y, and xi appears in k of those, Pr(xi|y) = k / p\n",
    "    \n",
    "#### Smoothing\n",
    "* What happens if Pr(xi|y) = 0?\n",
    "    * Feature xi never occurs in documents labeled y\n",
    "    * But then, the posterior probability Pr(y|xi) will be 0\n",
    "    * Instead, smooth the parameters\n",
    "    * <font color='red'>Laplace smoothing</font> or <font color='red'>Additive smoothing</font>: Add a dummy count"
   ]
  },
  {
   "cell_type": "markdown",
   "metadata": {},
   "source": [
    "### Support Vector Machines\n",
    "* Please refer to [Support Vector Machine](https://github.com/Jiseong-Michael-Yang/Machine-Learning/blob/master/Support%20Vector%20Machines.md)\n",
    "> You may have to install additional plug-in such as from this [link](https://chrome.google.com/webstore/detail/mathjax-plugin-for-github/ioemnmodlmafdkllaclgeombjnmnbima?hl=en) to properly render the page, though some elements may still be unavailable."
   ]
  },
  {
   "cell_type": "markdown",
   "metadata": {},
   "source": [
    "### Learning Text Classifiers in Python\n",
    "* Toolkits for Supervised Text Classification\n",
    "    * Scikit-learn\n",
    "    * NLTK\n",
    "        * Interfaces with sklearn and other ML toolkits (like Weka)\n",
    "\n",
    "#### Scikit-learn\n",
    "* Open-source Machine Learning library\n",
    "* Started as Google Summer of Code by Dave Cournapeau, 2007\n",
    "* It has a more programmatic interface"
   ]
  },
  {
   "cell_type": "markdown",
   "metadata": {},
   "source": [
    "##### NaiveBayesClassifier"
   ]
  },
  {
   "cell_type": "code",
   "execution_count": 3,
   "metadata": {
    "collapsed": true
   },
   "outputs": [
    {
     "ename": "NameError",
     "evalue": "name 'train_data' is not defined",
     "output_type": "error",
     "traceback": [
      "\u001b[1;31m---------------------------------------------------------------------------\u001b[0m",
      "\u001b[1;31mNameError\u001b[0m                                 Traceback (most recent call last)",
      "\u001b[1;32m<ipython-input-3-ece050054c25>\u001b[0m in \u001b[0;36m<module>\u001b[1;34m\u001b[0m\n\u001b[0;32m      6\u001b[0m \u001b[1;33m\u001b[0m\u001b[0m\n\u001b[0;32m      7\u001b[0m \u001b[1;31m# Train the model\u001b[0m\u001b[1;33m\u001b[0m\u001b[1;33m\u001b[0m\u001b[1;33m\u001b[0m\u001b[0m\n\u001b[1;32m----> 8\u001b[1;33m \u001b[0mclfrNB\u001b[0m\u001b[1;33m.\u001b[0m\u001b[0mfit\u001b[0m\u001b[1;33m(\u001b[0m\u001b[0mtrain_data\u001b[0m\u001b[1;33m,\u001b[0m \u001b[0mtrain_labels\u001b[0m\u001b[1;33m)\u001b[0m\u001b[1;33m\u001b[0m\u001b[1;33m\u001b[0m\u001b[0m\n\u001b[0m\u001b[0;32m      9\u001b[0m \u001b[1;33m\u001b[0m\u001b[0m\n\u001b[0;32m     10\u001b[0m \u001b[1;31m# Test the model\u001b[0m\u001b[1;33m\u001b[0m\u001b[1;33m\u001b[0m\u001b[1;33m\u001b[0m\u001b[0m\n",
      "\u001b[1;31mNameError\u001b[0m: name 'train_data' is not defined"
     ]
    }
   ],
   "source": [
    "# Import modules\n",
    "from sklearn import naive_bayes\n",
    "\n",
    "# Choose the classifier\n",
    "clfrNB = naive_bayes.MultinomialNB()\n",
    "\n",
    "# Train the model\n",
    "clfrNB.fit(train_data, train_labels)\n",
    "\n",
    "# Test the model\n",
    "predicted_labels = clfrNB.predict(test_data)\n",
    "\n",
    "# Check the result\n",
    "metrics.f1_score(test_labels, predicted_labels, average='micro')"
   ]
  },
  {
   "cell_type": "markdown",
   "metadata": {},
   "source": [
    "##### SVM classifier"
   ]
  },
  {
   "cell_type": "code",
   "execution_count": null,
   "metadata": {},
   "outputs": [],
   "source": [
    "# Import modules\n",
    "from sklearn import svm\n",
    "\n",
    "# Choose the classifier: linear kernel is typically used for text classification\n",
    "clfrSVM = svm.SVC(kernel='linear', c=0.1)\n",
    "\n",
    "# Train the model\n",
    "clfrSVM.fit(train_data, train_labels)\n",
    "\n",
    "# Test the model\n",
    "predicted_labels = clfrSVM.predict(test_data)\n",
    "\n",
    "# Check the result\n",
    "metrics.f1_score(test_labels, predicted_labels, average='micro')"
   ]
  },
  {
   "cell_type": "markdown",
   "metadata": {},
   "source": [
    "##### Model Selection in Scikit-learn\n",
    "* train_test_split"
   ]
  },
  {
   "cell_type": "code",
   "execution_count": null,
   "metadata": {},
   "outputs": [],
   "source": [
    "# Import modules\n",
    "from sklearn import model_selection\n",
    "\n",
    "X_train, X_test, y_train, y_test = \n",
    "model_selection.train_test_split(train_data, train_labels,\n",
    "                                 test_size = 0.333, random_state = 0)"
   ]
  },
  {
   "cell_type": "markdown",
   "metadata": {},
   "source": [
    "* Cross-validation\n",
    "    * K iterations of training in K-fold cross-validation\n",
    "    * Get the average out\n",
    "    * Very common to use 10-fold cross-validation when the data set is large (training: test = 9: 1)"
   ]
  },
  {
   "cell_type": "code",
   "execution_count": null,
   "metadata": {},
   "outputs": [],
   "source": [
    "# Import modules\n",
    "from sklearn import model_selection\n",
    "\n",
    "X_train, X_test, y_train, y_test = \n",
    "model_selection.train_test_split(train_data, train_labels,\n",
    "                                 test_size = 0.333, random_state = 0)\n",
    "\n",
    "predicted_labels = model_selection.cross_val_predict(clfrSVM, train_data, train_lables, cv=5)"
   ]
  },
  {
   "cell_type": "markdown",
   "metadata": {},
   "source": [
    "#### NLTK\n",
    "* NLTK has some classification algorithms\n",
    "    * NaiveBayesClassifier\n",
    "    * DecsionTreeClassifier\n",
    "    * ConditionalExponentialCLassifier\n",
    "    * MaxtentClassifier\n",
    "    * WekaClassifier\n",
    "    * SklearnClassifier"
   ]
  },
  {
   "cell_type": "markdown",
   "metadata": {},
   "source": [
    "##### NaiveBayesClassifier"
   ]
  },
  {
   "cell_type": "code",
   "execution_count": null,
   "metadata": {},
   "outputs": [],
   "source": [
    "# Import modules\n",
    "from nltk.classify import NaiveBayesClassifier\n",
    "\n",
    "# Choose the classifier\n",
    "classifier = NaiveBayesClassifier.train(train_set)\n",
    "\n",
    "# Train the model\n",
    "classifier.classify(unlabeled_instance)\n",
    "classifier.classify_many(unlabeled_instances)\n",
    "\n",
    "# Test the model\n",
    "nltk.classify.util.accuracy(classifier, test_set)\n",
    "\n",
    "# Shows all the labels the classifier has trained on\n",
    "classifier.labels()\n",
    "\n",
    "# Shows the most important/informative feature\n",
    "classifier.show_most_informative_features()\n",
    "\n"
   ]
  },
  {
   "cell_type": "markdown",
   "metadata": {},
   "source": [
    "##### SklearnClassifier\n",
    "* Sklearn does not have a native SVM function"
   ]
  },
  {
   "cell_type": "code",
   "execution_count": 5,
   "metadata": {},
   "outputs": [],
   "source": [
    "# Import modules\n",
    "from nltk.classify import SklearnClassifier\n",
    "from sklearn.naive_bayes import MultinomialNB\n",
    "from sklearn.svm import SVC\n",
    "\n",
    "# Choose the model\n",
    "clfrNB = SklearnClassifier(MultinomialNB()).train(train_set)\n",
    "clfrSVM = SklearnClassifier(SVC(), kerner='linear').train(train_set)"
   ]
  },
  {
   "cell_type": "markdown",
   "metadata": {},
   "source": [
    "## Module 4: Topic Modeling\n",
    "### Semantic Text Similarity\n",
    "#### Application of Semantic Similarity\n",
    "* Grouping similar words into semantic concepts\n",
    "* As a building block in natural language understanding tasks\n",
    "    * Textual entailment: the smaller or one of the two sentences derives its meaning or entails its meaning from another piece of text\n",
    "    * Paraphrasing: a task where you rephrase or rewrite some sentence into another sentence that has the same meaning\n",
    "\n",
    "#### WordNet\n",
    "* WordNet\n",
    "    * Semantic dictionary of (mostly) English words, interlinked by semantic relations\n",
    "    * Includes rich linguistic information\n",
    "        * Part of speech, word senses, synonyms, hypernyms/hyponyms, meronyms, derivationally related forms et cetera\n",
    "    * Machine-readable, freely available\n",
    "\n",
    "* Semantic Similarity Using WordNet\n",
    "    * WordNet organizes information in a hierarchy\n",
    "    * Many similarity measures use the hierarchy in some way\n",
    "    * Verbs, nounds, and adjectives all have separate hierarchies\n",
    "\n",
    "#### Measures of Similarity  \n",
    "<img src=\"./img/word_hierarchy.jfif\" width=500 />  \n",
    "  \n",
    "##### Path Similarity  \n",
    "  * Find the shortest path between the two concepts\n",
    "  * Similarity measure inversely related to path distance\n",
    "      * PathSim(deer, elk) = 0.5 ($\\frac{1}{1+1}$)\n",
    "      * PathSim(deer, giraffe) = 0.33 ($\\frac{1}{2+1}$)\n",
    "      * PathSim(deer, horse) = 0.14 ($\\frac{1}{6+1}$)\n",
    "      \n",
    "##### Lowest Common Subsumer (LCS)\n",
    "* Find the closest ancestor to both concepts\n",
    "    * LCS(deer, elk) = deer\n",
    "    * LCS(deer, giraffe) = ruminant\n",
    "    * LCS(deer, horse) = ungulate\n",
    "* Lin Similarity\n",
    "    * Ratio of the amount of information needed to state the commonality between two concepts and the information neede to fully describe these terms\n",
    "        * $LinSim(u,v) = \\frac{2\\log(P(LCS(u,v))}{\\log(P(u))+\\log(P(v))}= \\frac{2\\log{\\frac{N}{df(LCS(u,v))}}}{log{\\frac{N}{df(u)}}+log{\\frac{N}{df(u)}}} =\\frac{2\\text{LCS(u,v)'s amount of information}}{\\text{u's amount of information + v's amount of information}}$\n",
    "        * When LCS of words occur often, it could be an indicator of their similarity, however, this may only due to its frequency itself. \n",
    "            * Therefore, it needs to be normalized by diving the value with the frequency of each word\n",
    "        * $P(u), P(v)$ are given by the information content learnt over a large corpus\n",
    "        > * Random Variable X's Amount of Information is greater when X is not so obvious to take place\n",
    "        > * $-\\log{\\frac{1}{P(X)}} = -\\log{P(X)} = \\log{\\frac{N}{*df}}$ (*: frequency of the documents where x occurs)"
   ]
  },
  {
   "cell_type": "markdown",
   "metadata": {},
   "source": [
    "##### Measures of Similarity In Python"
   ]
  },
  {
   "cell_type": "code",
   "execution_count": 1,
   "metadata": {
    "scrolled": false
   },
   "outputs": [
    {
     "name": "stderr",
     "output_type": "stream",
     "text": [
      "[nltk_data] Downloading package wordnet to\n",
      "[nltk_data]     C:\\Users\\양지성\\AppData\\Roaming\\nltk_data...\n",
      "[nltk_data]   Package wordnet is already up-to-date!\n",
      "[nltk_data] Downloading package wordnet_ic to\n",
      "[nltk_data]     C:\\Users\\양지성\\AppData\\Roaming\\nltk_data...\n",
      "[nltk_data]   Package wordnet_ic is already up-to-date!\n"
     ]
    },
    {
     "data": {
      "text/plain": [
       "0.7726998936065773"
      ]
     },
     "execution_count": 1,
     "metadata": {},
     "output_type": "execute_result"
    }
   ],
   "source": [
    "# WordNet easily imported into Python through NLTK\n",
    "import nltk\n",
    "nltk.download([\"wordnet\", \"wordnet_ic\"])\n",
    "from nltk.corpus import wordnet as wn\n",
    "\n",
    "# Find appropriate senses of the words: give sense to words: get the \"first\" synonym of the \"noun\", \"deer/elk\"\n",
    "deer = wn.synset('deer.n.01')\n",
    "elk = wn.synset('elk.n.01')\n",
    "horse = wn.synset('horse.n.01')\n",
    "\n",
    "# Find path similarity\n",
    "deer.path_similarity(elk) # 0.5\n",
    "deer.path_similarity(horse) # 0.1428...\n",
    "\n",
    "# Use an information criteria to find Lin similarity\n",
    "from nltk.corpus import wordnet_ic\n",
    "brown_ic = wordnet_ic.ic('ic-brown.dat') # Criteria\n",
    "\n",
    "# This measure does not explicitly use the distance between two concepts\n",
    "deer.lin_similarity(elk, brown_ic) # 0.7726...\n",
    "deer.lin_similarity(horse, brown_ic) # 0.8623...."
   ]
  },
  {
   "cell_type": "markdown",
   "metadata": {},
   "source": [
    "##### Collocations and Distributional Similarity\n",
    "* Collocations\n",
    "    * \"You know a word by the company it keeps\" [Firth, 1957]\n",
    "    * Two words that frequently appears in similar contexts are more likely to be semantically related\n",
    "        * The friends <u>met</u> <u>at</u> <u>a</u> <font color=\"red\">café</font>.\n",
    "        * Shyam <u>met</u> Ray <u>at</u> <u>a</u> <font color=\"red\">pizzeria</font>.\n",
    "        * Let's <u>meet</u> up <u>near</u> <u>the</u> <font color=\"red\">coffe shop</font>.\n",
    "        * The secret <u>meeting</u> <u>at</u> <u>the</u> <font color=\"red\">restaurant</font> soon became public.\n",
    "* Distributional Similarity: Context\n",
    "    * Words before, after, within a small window\n",
    "    * Part of speech of words before, after, in a small window\n",
    "    * Specific syntatic relation to the target word\n",
    "    * Words in the same sentence, same documents, ...\n",
    "* Strength of Association between Words\n",
    "    * How frequently are these?\n",
    "        * Not similar if two words don't occur together often\n",
    "    * Also important to see how frequent individual words are\n",
    "        * 'the' is very frequent, so high chances it co-occurs often with every other word (needs to be **normalized**)\n",
    "        * Pointwise Mutual Information\n",
    "            * $PMI(w,c)=\\log{\\left[\\frac{P(w,c)}{P(w)P(c)}\\right]}$\n",
    "            * [To be added](https://bab2min.tistory.com/605)\n",
    "            * Probability of \"words together on the context\" divided by \"that of occuring independently\""
   ]
  },
  {
   "cell_type": "markdown",
   "metadata": {},
   "source": [
    "##### Collocations and Distributional Similarity in Python"
   ]
  },
  {
   "cell_type": "code",
   "execution_count": 9,
   "metadata": {},
   "outputs": [],
   "source": [
    "# Use NLTK Collocations and Association measures\n",
    "import nltk\n",
    "from nltk.collocations import *\n",
    "bigram_measures = nltk.collocations.BigramAssocMeasures()\n",
    "\n",
    "# Learn based on the text\n",
    "finder = BigramCollocationFinder.from_words(text) # Text variable input\n",
    "\n",
    "# Get top ten pairs of collocated words using PMI measures\n",
    "finder.nbest(bigram_measures.pmi, 10) # finder also has other useful functions, such as frequency filter\n",
    "\n",
    "# Filter any pairs that occur less than ten times in the corpus\n",
    "finder.apply_freq_filter(10)"
   ]
  },
  {
   "cell_type": "markdown",
   "metadata": {},
   "source": [
    "* Take Home Concepts\n",
    "    * Finding similarity between words and text is non-trivial\n",
    "    * WordNet is a useful resource for semantic relationships between words\n",
    "    * Many similarity function exist\n",
    "    * NLTK is a useful package for many such tasks   "
   ]
  },
  {
   "cell_type": "markdown",
   "metadata": {},
   "source": [
    "### Topic Modeling\n",
    "#### Underlying Idea\n",
    "* Latent Dirichlet Allocation (Blei et al., '03)  \n",
    "    <img src=\"./img/topic_modeling_example.jfif\" width = 500 />  \n",
    "    * Topic 1: Genetics (gene, sequence, genome, ...)\n",
    "    * Topic 2: Computation (number, computer, analysis, ...)\n",
    "    * Topic 3: Life Sciences (life, survive, organism, ...)\n",
    "    * Topic 4: Anatomy (brain, neuron, nerve, ...)\n",
    "         \n",
    "* Intuition: Documents as a Mixture of Topics\n",
    "<img src=\"./img/topic_modeling_intuition.jfif\" width = 500 />"
   ]
  },
  {
   "cell_type": "markdown",
   "metadata": {},
   "source": [
    "#### Topic Modeling\n",
    "* Topic Modeling\n",
    "    * A coarse-level analysis of what's in a text collection\n",
    "    * Topic: the subject (theme) of a discourse\n",
    "    * Topics are represented as a word distribution\n",
    "        * For a particular word, there are different distribution of probability occuring from a topic\n",
    "        * Topics are basically this probability distribution over all words\n",
    "        \n",
    "* Information for Topic Modeling\n",
    "    * Known information\n",
    "        * The text collection or corpus\n",
    "        * Number of topics\n",
    "    * Unknown information\n",
    "        * The actual topics\n",
    "        * Topic distribution for each document\n",
    "\n",
    "* Essentially, Topic Modeling is text clustering problem\n",
    "    * Documents and words clustered simultaneously\n",
    "   \n",
    "* Different topic modeling approaches available\n",
    "    * Probabilistic Latent Semantic Analysis (PLSA) [Hoffman '99]\n",
    "    * Latent Dirichlet Allocation (LDA) [Blei, Ng, and Jordan, '03]"
   ]
  },
  {
   "cell_type": "markdown",
   "metadata": {},
   "source": [
    "#### Generative Models\n",
    "\n",
    "##### Simple Generative Model for Text (Unigram Model)\n",
    "<img src=\"./img/simple_generative_model.jfif\" width = 500 />\n",
    "<center>$Pr(text|model)$</center>\n",
    "\n",
    "* Suppose we have a magic chest that gives out words\n",
    "* We use those words coming from the chest to generate a document\n",
    "* Reversely, we create a probability distribution of how likely it is to see these words\n",
    "\n",
    "##### Generative Model Can Be Complex (Mixture Model)\n",
    "<img src=\"./img/complex_generative_model.jfif\" width = 500 />\n",
    "<center>$Pr(text|model)$</center>\n",
    "\n",
    "* Suppose we have several chests that give out words\n",
    "* We use randomly coming-out words to generate the **same document** we created in the simple model\n",
    "* Reversely, we could not only figure out what were **the individual topic models and individual word distributions**, but also this mixture model of how you use these **four topic models and combine them with different _proportions_** to create one document"
   ]
  },
  {
   "cell_type": "markdown",
   "metadata": {},
   "source": [
    "#### Latent Dirichlet Allocation (LDA)\n",
    "##### Generative model for a document _d_\n",
    "* Choose length of document _d_\n",
    "* Choose a mixture of topics for document _d_\n",
    "* Use a topic's multinomial distribution to output words to fill that topic's quota\n",
    "    \n",
    "##### [Latent Dirichlet Allocation for Topic Modeling](https://www.analyticsvidhya.com/blog/2016/08/beginners-guide-to-topic-modeling-in-python/)\n",
    "* LDA is a matrix factorization\n",
    "* In vector space, any corpus (collection of documents) can be presented as a DTM\n",
    "***\n",
    "* The following matrix shows a corpus of N documents $D_1, D_2, D_3, \\ldots , D_N$ and vocabulary size of M words $W_1, W_2, W_3, \\ldots , W_M$\n",
    "* The value of $cell_{ij}$ gives the frequency count of word $W_j$ in Document $D_i$\n",
    "    \n",
    "|(N,M)|$W_1$|$W_2$|$W_3$|$\\cdots$|$W_M$|\n",
    "|-|-|-|-|-|-|\n",
    "|$D_1$|0|2|1|$\\cdots$|3|\n",
    "|$D_2$|1|4|0|$\\cdots$|0|\n",
    "|$D_3$|0|2|3|$\\cdots$|1|\n",
    "|$\\vdots$|$\\vdots$|$\\vdots$|$\\vdots$|$\\ddots$|$\\vdots$\n",
    "|$D_N$|1|1|3|$\\cdots$|0|\n",
    "\n",
    "* LDA converts this DTM into two lower dimensional matrices\n",
    "    * $\\text{M1 (N,K)}$\n",
    "    * $\\text{M2 (K,M)}$\n",
    "* $M1$ is a **document-topics matrix** \n",
    "    \n",
    "|(N,K)|$K_1$|$K_2$|$K_3$|$\\cdots$|$K_K$|\n",
    "|-|-|-|-|-|-|\n",
    "|$D_1$|1|0|0|$\\cdots$|1|\n",
    "|$D_2$|1|1|0|$\\cdots$|0|\n",
    "|$D_3$|1|0|0|$\\cdots$|1|\n",
    "|$\\vdots$|$\\vdots$|$\\vdots$|$\\vdots$|$\\ddots$|$\\vdots$\n",
    "|$D_N$|1|0|1|$\\cdots$|0|\n",
    "    \n",
    "* $M2$ is a **topic-terms matrix**\n",
    "\n",
    "|(K,M)|$W_1$|$W_2$|$W_3$|$\\cdots$|$W_M$|\n",
    "|-|-|-|-|-|-|\n",
    "|$K_1$|0|1|1|$\\cdots$|1|\n",
    "|$K_2$|1|1|1|$\\cdots$|0|\n",
    "|$K_3$|1|0|0|$\\cdots$|1|\n",
    "|$\\vdots$|$\\vdots$|$\\vdots$|$\\vdots$|$\\ddots$|$\\vdots$\n",
    "|$K_K$|1|1|0|$\\cdots$|0|"
   ]
  },
  {
   "cell_type": "markdown",
   "metadata": {},
   "source": [
    "* These two matrices already provides topic word and document topic distributions, but need to be improved by LDA\n",
    "    * LDA makes use of sampling techniques in order to improve these matrices\n",
    "    * It iterates through each word $w$ for each document $d$ and it tries to adjust the current topic\n",
    "    * A new topic $k$ is assigned to word $w$ with a probability $P(=P_1{\\cdot}P_2)$"
   ]
  },
  {
   "attachments": {
    "image.png": {
     "image/png": "[encoded data removed]"
    }
   },
   "cell_type": "markdown",
   "metadata": {},
   "source": [
    "* For every topic, two possibilities $P_1$ and $P_2$ are calculated\n",
    "    * $P_1=P(\\text{topic t}|\\text{document d})$: the proportion of words in document $d$ that are currently assigned to topic $t$\n",
    "    * $P_2=P(\\text{word w}|\\text{topic t})$: the proportion of assignments to topic $t$ over all documents that contain word $w$\n",
    "\t\t\t\t\t\n",
    "![image.png](attachment:image.png)\n"
   ]
  },
  {
   "cell_type": "markdown",
   "metadata": {},
   "source": [
    "* The current topic - word assignment is updated with a new topic with the probability($P_1{\\cdot}P_2)$\n",
    "    * The model assumes that all the existing word(topic assignments) except the current word are correct\n",
    "    * This is essentially the probability that topic $t$ generated word $w$\n",
    "\n",
    "* After a number of iterations, a steady state is achieved where the document topic and topic term distributions are fairly good(**the convergence of LDA**)"
   ]
  },
  {
   "cell_type": "markdown",
   "metadata": {},
   "source": [
    "#### Topic Modeling in Practice\n",
    "* How many topics?\n",
    "    * Finding or even guessing the number of topic is hard\n",
    "    * If one is knowledgable of a specific domain, it would give a good sense to pick the number\n",
    "* Interpreting Topics\n",
    "    * Topics are just word distributions\n",
    "    * Making sense of words / generating labels is **subjective** \n",
    "\n",
    "##### Working with LDA in Python\n",
    "   * Many packages availbable, such as gensim, lda\n",
    "   * Pre-processing text\n",
    "       * Tokenize, normalize (lowercase)\n",
    "       * Stop word removal (also if some words are commonly used across documents of a specific topic)        \n",
    "       * Stemming\n",
    "       * Convert tokenized documents to a document-term matrix\n",
    "       * Build LDA models on the DTM\n",
    "   * ldamodel can also be used to find topic distribution of documents"
   ]
  },
  {
   "cell_type": "code",
   "execution_count": 1,
   "metadata": {},
   "outputs": [
    {
     "name": "stderr",
     "output_type": "stream",
     "text": [
      "C:\\ProgramData\\Anaconda3\\lib\\site-packages\\gensim\\utils.py:1197: UserWarning: detected Windows; aliasing chunkize to chunkize_serial\n",
      "  warnings.warn(\"detected Windows; aliasing chunkize to chunkize_serial\")\n"
     ]
    },
    {
     "ename": "NameError",
     "evalue": "name 'doc_set' is not defined",
     "output_type": "error",
     "traceback": [
      "\u001b[1;31m---------------------------------------------------------------------------\u001b[0m",
      "\u001b[1;31mNameError\u001b[0m                                 Traceback (most recent call last)",
      "\u001b[1;32m<ipython-input-1-86e11c711883>\u001b[0m in \u001b[0;36m<module>\u001b[1;34m\u001b[0m\n\u001b[0;32m      4\u001b[0m \u001b[1;33m\u001b[0m\u001b[0m\n\u001b[0;32m      5\u001b[0m \u001b[1;31m# Dictionary is mapping between IDs and words\u001b[0m\u001b[1;33m\u001b[0m\u001b[1;33m\u001b[0m\u001b[1;33m\u001b[0m\u001b[0m\n\u001b[1;32m----> 6\u001b[1;33m \u001b[0mdictionary\u001b[0m \u001b[1;33m=\u001b[0m \u001b[0mcorpora\u001b[0m\u001b[1;33m.\u001b[0m\u001b[0mDictionary\u001b[0m\u001b[1;33m(\u001b[0m\u001b[0mdoc_set\u001b[0m\u001b[1;33m)\u001b[0m \u001b[1;31m# doc_set: set of pre-processed text documents\u001b[0m\u001b[1;33m\u001b[0m\u001b[1;33m\u001b[0m\u001b[0m\n\u001b[0m\u001b[0;32m      7\u001b[0m \u001b[1;33m\u001b[0m\u001b[0m\n\u001b[0;32m      8\u001b[0m \u001b[1;31m# Create DTM with all the documents in doc_set\u001b[0m\u001b[1;33m\u001b[0m\u001b[1;33m\u001b[0m\u001b[1;33m\u001b[0m\u001b[0m\n",
      "\u001b[1;31mNameError\u001b[0m: name 'doc_set' is not defined"
     ]
    }
   ],
   "source": [
    "# Gensim is a libarary for topic modeling, document indexing, and similarity retrieval with large corpora\n",
    "import gensim\n",
    "from gensim import corpora, models\n",
    "\n",
    "# Dictionary is mapping between IDs and words\n",
    "dictionary = corpora.Dictionary(doc_set) # doc_set: set of pre-processed text documents\n",
    "\n",
    "# Create DTM with all the documents in doc_set\n",
    "corpus = [dictionary.doc2bow(doc) for doc in doc_set]\n",
    "\n",
    "# Input DTM to LDA model\n",
    "ldamodel = gensim.models.ldamodel.LdaModel(corpus, num_topics=4, id2word=dictionary, passes=50)\n",
    "\n",
    "# Print the topics\n",
    "print(ldamodel.print_topics(num_topics=4, num_words=5))"
   ]
  },
  {
   "cell_type": "markdown",
   "metadata": {},
   "source": [
    "##### Take Home Concepts\n",
    "* Topic modeling is **an explanatory tool** frequently used for text mining\n",
    "* Latent Dirichlet Allocation is a generative model used extensively for modeling large text corpora\n",
    "* LDA can also be used as a **feature selection technique for text classification** and other tasks\n",
    "    * Remove all **common** features coming from corpus\n",
    "    * Focus on **features** on specific topics "
   ]
  },
  {
   "cell_type": "markdown",
   "metadata": {},
   "source": [
    "#### Information Extraction\n",
    "##### Information is Hidden in Free-text\n",
    "* Most traditional transactional information is structured\n",
    "* Abundance of unstructured or freeform text are growing (80% of data)\n",
    "* The key is to convert unstructured text to structured form\n",
    "\n",
    "##### Information Extraction\n",
    "* Goal: identify and extract fields of interest from free text\n",
    "    * Headlines\n",
    "    * Author\n",
    "    * Reviewer\n",
    "    * Published date\n",
    "    * Publisher\n",
    "    \n",
    "##### Fields of Interest\n",
    "* Named entities\n",
    "    * Noun phrases that are of speicific type and refer to specific individuals, places, organizations, ...\n",
    "        * **<font color='red'>News</font>** People, Places, Dates, ...\n",
    "        * **<font color='red'>Finance</font>** Money, Companies, ...\n",
    "        * **<font color='red'>Medicine</font>** Diseases, Drugs, Procedures, ...\n",
    "    * Recognition: Technique(s) to identify all mentions of pre-defiend names entities in text\n",
    "        * Identify the mention / phrases: Boundary detection\n",
    "        * Identify the type: Tagging / classification\n",
    "    * Examples of Named Entity Recognition Tasks  \n",
    "    <img src=\"./img/entity_recognition_example.jpg\" width=500 />\n",
    "    * Approaches to Identify Named Entities\n",
    "        * Depends on kinds of entities that need to be identified\n",
    "        * For well-formatted fields like date, phone numbers: **Regular expressions**\n",
    "        * For other fields: typically a machine learning approach\n",
    "    * Person, Organization, Location/GPE\n",
    "        * Standard NER task in NLP research community\n",
    "        * Typically a four-class model\n",
    "            * PER\n",
    "            * ORG\n",
    "            * LOC / GPE\n",
    "            * Other / Outside (any other class)\n",
    "                * e.g. John **met(Outside)** Brinda\n",
    "\n",
    "* Relation Extraction\n",
    "    * Identify relationships between named entities\n",
    "        * Erbitux helps treat lung cancer\n",
    "            * Erbitux $-(\\text{treats})\\rightarrow$ lung cancer\n",
    "            * Lung cancer $-(\\text{is treated by})\\rightarrow$ Erbitux\n",
    "    * What happened to who, when, where, ...\n",
    "    \n",
    "* Co-reference Resolution\n",
    "    * Disambiguate mentions and group mentions together\n",
    "        * <font color='blue'>Anita</font> met <font color='red'>Joseph</font> at the market. <font color='red'>He surprised <font color='blue'>her</font> with a rose.\n",
    "    \n",
    "* Question Answering\n",
    "    * Given a question, find the most appropriate answer from the text\n",
    "        * What does Erbitux treat?\n",
    "        * Who gave Anita the rose?\n",
    "    * Builds on named entity recognition, relation extraction, and co-reference resolution\n",
    "\n",
    "##### Take Home Concepts\n",
    "* Information Extraction is important for natural language understanding and making sense of textual data\n",
    "* Named Entity Recognition is a key building block to address many advanced NLP tasks\n",
    "* Named Entity Recognition systems extensively deploy supervised machine learning and text mining techniques discussed in this course"
   ]
  },
  {
   "cell_type": "code",
   "execution_count": null,
   "metadata": {},
   "outputs": [],
   "source": []
  }
 ],
 "metadata": {
  "kernelspec": {
   "display_name": "Python 3",
   "language": "python",
   "name": "python3"
  },
  "language_info": {
   "codemirror_mode": {
    "name": "ipython",
    "version": 3
   },
   "file_extension": ".py",
   "mimetype": "text/x-python",
   "name": "python",
   "nbconvert_exporter": "python",
   "pygments_lexer": "ipython3",
   "version": "3.7.3"
  },
  "toc": {
   "base_numbering": 1,
   "nav_menu": {},
   "number_sections": true,
   "sideBar": true,
   "skip_h1_title": true,
   "title_cell": "Table of Contents",
   "title_sidebar": "Contents",
   "toc_cell": false,
   "toc_position": {
    "height": "466px",
    "left": "21px",
    "top": "110px",
    "width": "260.653px"
   },
   "toc_section_display": true,
   "toc_window_display": true
  },
  "varInspector": {
   "cols": {
    "lenName": 16,
    "lenType": 16,
    "lenVar": 40
   },
   "kernels_config": {
    "python": {
     "delete_cmd_postfix": "",
     "delete_cmd_prefix": "del ",
     "library": "var_list.py",
     "varRefreshCmd": "print(var_dic_list())"
    },
    "r": {
     "delete_cmd_postfix": ") ",
     "delete_cmd_prefix": "rm(",
     "library": "var_list.r",
     "varRefreshCmd": "cat(var_dic_list()) "
    }
   },
   "types_to_exclude": [
    "module",
    "function",
    "builtin_function_or_method",
    "instance",
    "_Feature"
   ],
   "window_display": false
  }
 },
 "nbformat": 4,
 "nbformat_minor": 2
}
